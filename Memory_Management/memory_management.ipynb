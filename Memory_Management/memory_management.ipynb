{
 "cells": [
  {
   "cell_type": "code",
   "execution_count": null,
   "metadata": {},
   "outputs": [],
   "source": [
    "# refrence in the python   --> use in efficient coding "
   ]
  },
  {
   "cell_type": "code",
   "execution_count": null,
   "metadata": {},
   "outputs": [
    {
     "name": "stdout",
     "output_type": "stream",
     "text": [
      "2\n"
     ]
    }
   ],
   "source": [
    "import sys \n",
    "\n",
    "a=[]\n",
    "print(sys.getrefcount(a))  # one from variable and 1 from getrefcount function (object )"
   ]
  },
  {
   "cell_type": "code",
   "execution_count": 3,
   "metadata": {},
   "outputs": [
    {
     "name": "stdout",
     "output_type": "stream",
     "text": [
      "3\n"
     ]
    }
   ],
   "source": [
    "b = a  \n",
    "print(sys.getrefcount(b))"
   ]
  },
  {
   "cell_type": "code",
   "execution_count": 4,
   "metadata": {},
   "outputs": [
    {
     "name": "stdout",
     "output_type": "stream",
     "text": [
      "2\n"
     ]
    }
   ],
   "source": [
    "del b\n",
    "print(sys.getrefcount(a))"
   ]
  },
  {
   "cell_type": "code",
   "execution_count": 6,
   "metadata": {},
   "outputs": [
    {
     "name": "stdout",
     "output_type": "stream",
     "text": [
      "name 'b' is not defined\n"
     ]
    }
   ],
   "source": [
    "try:\n",
    "    print(sys.getrefcount(b))\n",
    "except Exception as e :\n",
    "    print(e)"
   ]
  },
  {
   "cell_type": "code",
   "execution_count": 7,
   "metadata": {},
   "outputs": [],
   "source": [
    "# Garbage collection : \n",
    "\n",
    "import gc \n",
    "\n",
    "gc.enable()"
   ]
  },
  {
   "cell_type": "code",
   "execution_count": 8,
   "metadata": {},
   "outputs": [],
   "source": [
    "gc.disable()"
   ]
  },
  {
   "cell_type": "code",
   "execution_count": 9,
   "metadata": {},
   "outputs": [
    {
     "data": {
      "text/plain": [
       "596"
      ]
     },
     "execution_count": 9,
     "metadata": {},
     "output_type": "execute_result"
    }
   ],
   "source": [
    "gc.collect()"
   ]
  },
  {
   "cell_type": "code",
   "execution_count": 10,
   "metadata": {},
   "outputs": [
    {
     "name": "stdout",
     "output_type": "stream",
     "text": [
      "[{'collections': 307, 'collected': 1822, 'uncollectable': 0}, {'collections': 27, 'collected': 683, 'uncollectable': 0}, {'collections': 3, 'collected': 596, 'uncollectable': 0}]\n"
     ]
    }
   ],
   "source": [
    "# get garbage collection stastics \n",
    "print(gc.get_stats())"
   ]
  },
  {
   "cell_type": "code",
   "execution_count": 11,
   "metadata": {},
   "outputs": [
    {
     "name": "stdout",
     "output_type": "stream",
     "text": [
      "[]\n"
     ]
    }
   ],
   "source": [
    "# get unreachable objects \n",
    "print(gc.garbage)"
   ]
  },
  {
   "cell_type": "code",
   "execution_count": null,
   "metadata": {},
   "outputs": [
    {
     "name": "stdout",
     "output_type": "stream",
     "text": [
      "object obj1 created \n",
      "object obj2 created \n",
      "object obj2 deleted \n",
      "object obj1 deleted \n"
     ]
    },
    {
     "data": {
      "text/plain": [
       "7"
      ]
     },
     "execution_count": 18,
     "metadata": {},
     "output_type": "execute_result"
    }
   ],
   "source": [
    "# circuler refrences \n",
    "\n",
    "class MyObject:\n",
    "    def __init__(self,name):\n",
    "        self.name =name\n",
    "        print(f'object {self.name} created ')\n",
    "    \n",
    "    def __del__(self):\n",
    "        print(f'object {self.name} deleted ')\n",
    "\n",
    "# creating the circuler refrence : \n",
    "\n",
    "obj1 = MyObject('obj1')\n",
    "obj2 = MyObject('obj2')\n",
    "obj2.ref = obj2\n",
    "obj2.ref = obj1\n",
    "\n",
    "del obj1 \n",
    "del obj2 \n",
    "\n",
    "# manually trigger the garbage collection \n",
    "gc.collect()"
   ]
  },
  {
   "cell_type": "code",
   "execution_count": 19,
   "metadata": {},
   "outputs": [
    {
     "data": {
      "text/plain": [
       "[]"
      ]
     },
     "execution_count": 19,
     "metadata": {},
     "output_type": "execute_result"
    }
   ],
   "source": [
    "gc.garbage"
   ]
  },
  {
   "cell_type": "code",
   "execution_count": 25,
   "metadata": {},
   "outputs": [
    {
     "name": "stdout",
     "output_type": "stream",
     "text": [
      "0 1 2 3 4 5 6 7 8 9 10 11 "
     ]
    }
   ],
   "source": [
    "# use generator for memroy efficiency : \n",
    "\n",
    "def generator_numbers(n):\n",
    "    for i in range(n):\n",
    "        yield i \n",
    "\n",
    "for num in generator_numbers(100000):\n",
    "    print(num,end=' ')\n",
    "    if num > 10 : \n",
    "        break"
   ]
  },
  {
   "cell_type": "code",
   "execution_count": 26,
   "metadata": {},
   "outputs": [],
   "source": [
    "import tracemalloc"
   ]
  },
  {
   "cell_type": "code",
   "execution_count": 27,
   "metadata": {},
   "outputs": [],
   "source": [
    "def create_list():\n",
    "    return [num for num in range(10)]\n",
    "\n",
    "def main():\n",
    "    tracemalloc.start()\n",
    "\n",
    "    create_list() \n",
    "    snapshot = tracemalloc.take_snapshot()\n",
    "    top_stats = snapshot.statistics('lineno')\n",
    "\n",
    "    print(\"[TOP 10]\")\n",
    "\n",
    "    for stat in top_stats[:10]:\n",
    "        print(stat)\n",
    "    tracemalloc.stop()\n"
   ]
  },
  {
   "cell_type": "code",
   "execution_count": 28,
   "metadata": {},
   "outputs": [
    {
     "name": "stdout",
     "output_type": "stream",
     "text": [
      "[TOP 10]\n",
      "d:\\WorkPlace\\Machine Learning\\Anaconda\\anaconda3\\Lib\\selectors.py:314: size=288 KiB, count=6, average=48.0 KiB\n",
      "d:\\WorkPlace\\Machine Learning\\Anaconda\\anaconda3\\Lib\\site-packages\\IPython\\core\\compilerop.py:174: size=7007 B, count=68, average=103 B\n",
      "d:\\WorkPlace\\Machine Learning\\Anaconda\\anaconda3\\Lib\\json\\decoder.py:353: size=4732 B, count=60, average=79 B\n",
      "d:\\WorkPlace\\Machine Learning\\Anaconda\\anaconda3\\Lib\\site-packages\\zmq\\sugar\\attrsettr.py:44: size=3685 B, count=67, average=55 B\n",
      "d:\\WorkPlace\\Machine Learning\\Anaconda\\anaconda3\\Lib\\codeop.py:125: size=3602 B, count=39, average=92 B\n",
      "d:\\WorkPlace\\Machine Learning\\Anaconda\\anaconda3\\Lib\\site-packages\\traitlets\\traitlets.py:744: size=3421 B, count=48, average=71 B\n",
      "d:\\WorkPlace\\Machine Learning\\Anaconda\\anaconda3\\Lib\\site-packages\\jupyter_client\\jsonutil.py:111: size=2610 B, count=45, average=58 B\n",
      "d:\\WorkPlace\\Machine Learning\\Anaconda\\anaconda3\\Lib\\site-packages\\traitlets\\traitlets.py:1535: size=1982 B, count=29, average=68 B\n",
      "d:\\WorkPlace\\Machine Learning\\Anaconda\\anaconda3\\Lib\\threading.py:265: size=1520 B, count=4, average=380 B\n",
      "d:\\WorkPlace\\Machine Learning\\Anaconda\\anaconda3\\Lib\\site-packages\\IPython\\core\\compilerop.py:86: size=1465 B, count=21, average=70 B\n"
     ]
    }
   ],
   "source": [
    "main()"
   ]
  },
  {
   "cell_type": "code",
   "execution_count": null,
   "metadata": {},
   "outputs": [],
   "source": []
  }
 ],
 "metadata": {
  "kernelspec": {
   "display_name": "base",
   "language": "python",
   "name": "python3"
  },
  "language_info": {
   "codemirror_mode": {
    "name": "ipython",
    "version": 3
   },
   "file_extension": ".py",
   "mimetype": "text/x-python",
   "name": "python",
   "nbconvert_exporter": "python",
   "pygments_lexer": "ipython3",
   "version": "3.11.8"
  }
 },
 "nbformat": 4,
 "nbformat_minor": 2
}
