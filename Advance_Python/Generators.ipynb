{
 "cells": [
  {
   "cell_type": "code",
   "execution_count": 4,
   "metadata": {},
   "outputs": [],
   "source": [
    "\n",
    "# creating a simple generator \n",
    "\n",
    "def square(num):\n",
    "    \n",
    "    for i in range(0,num+1):\n",
    "        yield i**2\n",
    "    \n",
    "    "
   ]
  },
  {
   "cell_type": "code",
   "execution_count": 8,
   "metadata": {},
   "outputs": [],
   "source": [
    "sq = square(5)"
   ]
  },
  {
   "cell_type": "code",
   "execution_count": null,
   "metadata": {},
   "outputs": [],
   "source": [
    "for i in sq :  # that mean it delete it from a memroy once iterate the delete it form the roor meomry you can't get it agian \n",
    "    print(i)"
   ]
  },
  {
   "cell_type": "code",
   "execution_count": 14,
   "metadata": {},
   "outputs": [
    {
     "name": "stdout",
     "output_type": "stream",
     "text": [
      "1\n",
      "2\n",
      "3\n",
      "5\n",
      "8\n"
     ]
    }
   ],
   "source": [
    "# Question 1 : \n",
    "\n",
    "def fibbonnaci_gen():\n",
    "    a,b =0,1\n",
    "    while True :\n",
    "        temp = b \n",
    "        b,a = a+b ,temp\n",
    "        yield b\n",
    "feb = fibbonnaci_gen()\n",
    "print(next(feb))\n",
    "print(next(feb))\n",
    "print(next(feb))\n",
    "print(next(feb))\n",
    "print(next(feb))"
   ]
  },
  {
   "cell_type": "code",
   "execution_count": 18,
   "metadata": {},
   "outputs": [
    {
     "name": "stdout",
     "output_type": "stream",
     "text": [
      "0\n",
      "1\n",
      "4\n",
      "9\n",
      "16\n",
      "25\n",
      "36\n",
      "49\n",
      "64\n",
      "81\n",
      "100\n"
     ]
    }
   ],
   "source": [
    "# question 2 : read large file in chinks : \n",
    "\n",
    "def Read_file(file):\n",
    "    file_name = open(file,'r')\n",
    "    while True :\n",
    "        line = file_name.readline()\n",
    "        if line =='':\n",
    "            break\n",
    "        line = line.strip()\n",
    "        yield line\n",
    "\n",
    "reader = Read_file('text.txt')\n",
    "\n",
    "for i in reader :\n",
    "    print(i)\n"
   ]
  },
  {
   "cell_type": "code",
   "execution_count": null,
   "metadata": {},
   "outputs": [],
   "source": []
  }
 ],
 "metadata": {
  "kernelspec": {
   "display_name": "base",
   "language": "python",
   "name": "python3"
  },
  "language_info": {
   "codemirror_mode": {
    "name": "ipython",
    "version": 3
   },
   "file_extension": ".py",
   "mimetype": "text/x-python",
   "name": "python",
   "nbconvert_exporter": "python",
   "pygments_lexer": "ipython3",
   "version": "3.11.8"
  }
 },
 "nbformat": 4,
 "nbformat_minor": 2
}
