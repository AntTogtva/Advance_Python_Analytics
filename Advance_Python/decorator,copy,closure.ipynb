{
 "cells": [
  {
   "cell_type": "code",
   "execution_count": 7,
   "metadata": {},
   "outputs": [
    {
     "name": "stdout",
     "output_type": "stream",
     "text": [
      "hello world : \n",
      "the time function take to execute is : 0.0\n"
     ]
    }
   ],
   "source": [
    "from datetime import datetime\n",
    "def count_time(func):\n",
    "    \n",
    "    def wrapper(*args,**kwargs) :\n",
    "        start_time = datetime.now()\n",
    "        func(*args,**kwargs)\n",
    "        end_time=datetime.now()\n",
    "        exe_time = (start_time - end_time).total_seconds() \n",
    "        return f\"the time function take to execute is : { exe_time}\"\n",
    "    return wrapper \n",
    "@count_time\n",
    "def intro_name():\n",
    "    print(\"hello world : \")\n",
    "print(intro_name())\n",
    "\n"
   ]
  },
  {
   "cell_type": "code",
   "execution_count": 25,
   "metadata": {},
   "outputs": [
    {
     "name": "stdout",
     "output_type": "stream",
     "text": [
      "[[1, 23, 3], 'piprotar', 1]\n",
      "[[1, 23, 3], 'soham', 1]\n"
     ]
    }
   ],
   "source": [
    "# deepcopy the list : \n",
    "#Write a function that deep copies a nested list without using copy.deepcopy()\n",
    "\n",
    "def deep_copy(lst):\n",
    "    if isinstance(lst,list):\n",
    "        return [deep_copy(item) for item in lst]\n",
    "    return lst \n",
    "\n",
    "lst= [[1, 23, 3], 'piprotar', 1]\n",
    "fun = deep_copy(lst)\n",
    "lst[1] = 'soham'\n",
    "print(fun)\n",
    "print(lst)\n",
    "\n"
   ]
  },
  {
   "cell_type": "code",
   "execution_count": 33,
   "metadata": {},
   "outputs": [
    {
     "name": "stdout",
     "output_type": "stream",
     "text": [
      "1\n",
      "2\n",
      "3\n",
      "4\n"
     ]
    }
   ],
   "source": [
    "# closure that maintain the count  \n",
    "\n",
    "def count_maintain():\n",
    "    count = 0  # this is a local variable \n",
    "\n",
    "    def count_counter():\n",
    "        nonlocal count  # telling  a python that i use the nonlocal count variable \n",
    "        count += 1\n",
    "        return count \n",
    "    return count_counter\n",
    "\n",
    "count_instance = count_maintain()\n",
    "print(count_instance())\n",
    "print(count_instance())\n",
    "print(count_instance())\n",
    "print(count_instance())\n",
    "\n"
   ]
  },
  {
   "cell_type": "code",
   "execution_count": null,
   "metadata": {},
   "outputs": [],
   "source": []
  }
 ],
 "metadata": {
  "kernelspec": {
   "display_name": "base",
   "language": "python",
   "name": "python3"
  },
  "language_info": {
   "codemirror_mode": {
    "name": "ipython",
    "version": 3
   },
   "file_extension": ".py",
   "mimetype": "text/x-python",
   "name": "python",
   "nbconvert_exporter": "python",
   "pygments_lexer": "ipython3",
   "version": "3.11.8"
  }
 },
 "nbformat": 4,
 "nbformat_minor": 2
}
