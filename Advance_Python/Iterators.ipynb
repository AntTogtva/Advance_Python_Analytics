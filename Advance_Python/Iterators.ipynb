{
 "cells": [
  {
   "cell_type": "code",
   "execution_count": 1,
   "metadata": {},
   "outputs": [
    {
     "name": "stdout",
     "output_type": "stream",
     "text": [
      "[0, 1, 4, 9, 16, 25, 36, 49, 64, 81, 100]\n"
     ]
    }
   ],
   "source": [
    "# list \n",
    "a  = [x*x for x in range(0,11)]\n",
    "print(a)"
   ]
  },
  {
   "cell_type": "code",
   "execution_count": 5,
   "metadata": {},
   "outputs": [
    {
     "name": "stdout",
     "output_type": "stream",
     "text": [
      "<list_iterator object at 0x000002D9C00196C0>\n"
     ]
    }
   ],
   "source": [
    "iterator = iter(a)\n",
    "print(iterator)"
   ]
  },
  {
   "cell_type": "code",
   "execution_count": 8,
   "metadata": {},
   "outputs": [
    {
     "data": {
      "text/plain": [
       "25"
      ]
     },
     "execution_count": 8,
     "metadata": {},
     "output_type": "execute_result"
    }
   ],
   "source": [
    "next(iterator)\n",
    "next(iterator)\n",
    "next(iterator)"
   ]
  },
  {
   "cell_type": "code",
   "execution_count": 9,
   "metadata": {},
   "outputs": [
    {
     "data": {
      "text/plain": [
       "36"
      ]
     },
     "execution_count": 9,
     "metadata": {},
     "output_type": "execute_result"
    }
   ],
   "source": [
    "next(iterator)"
   ]
  },
  {
   "cell_type": "code",
   "execution_count": 11,
   "metadata": {},
   "outputs": [],
   "source": [
    "del iterator"
   ]
  },
  {
   "cell_type": "code",
   "execution_count": 14,
   "metadata": {},
   "outputs": [],
   "source": [
    "iterator = iter(a)"
   ]
  },
  {
   "cell_type": "code",
   "execution_count": null,
   "metadata": {},
   "outputs": [
    {
     "name": "stdout",
     "output_type": "stream",
     "text": [
      "0\n",
      "1\n",
      "4\n",
      "9\n",
      "16\n",
      "25\n",
      "36\n",
      "49\n",
      "64\n",
      "81\n",
      "100\n",
      "there is no element next : \n"
     ]
    }
   ],
   "source": [
    "for i in range(0,100): # use the case when there is infinite loop condition and we don't know the underlying strucute of perticulr object so we create a iterator and iteratte though the object . __iter__() is a iterator object . __next__() return the next item in the sequence \n",
    "    try:\n",
    "        print(next(iterator))\n",
    "    except StopIteration as I :\n",
    "        print(f\"there is no element next : {I}\")\n",
    "        break "
   ]
  },
  {
   "cell_type": "code",
   "execution_count": 17,
   "metadata": {},
   "outputs": [],
   "source": [
    "# cutom file reader iterator \n",
    "\n",
    "class FileReader():\n",
    "    def __init__(self,filename):\n",
    "        self.filename = open(filename,'r')\n",
    "\n",
    "    def __iter__(self):\n",
    "        return self \n",
    "    \n",
    "    def __next__(self):\n",
    "        line = self.filename.readline()  # there is a filename \n",
    "        if not line : \n",
    "            self.filename.close()\n",
    "            raise StopIteration\n",
    "        return line.strip() \n",
    "\n",
    "    "
   ]
  },
  {
   "cell_type": "code",
   "execution_count": 21,
   "metadata": {},
   "outputs": [
    {
     "name": "stdout",
     "output_type": "stream",
     "text": [
      "0\n",
      "1\n",
      "4\n",
      "9\n",
      "16\n",
      "25\n",
      "36\n",
      "49\n",
      "64\n",
      "81\n",
      "100\n"
     ]
    }
   ],
   "source": [
    "with open(\"text.txt\",'w') as file : \n",
    "    for item in a : \n",
    "        file.write(str(item)+'\\n')\n",
    "\n",
    "reader = FileReader('text.txt')\n",
    "\n",
    "for item in reader:\n",
    "    print(item)"
   ]
  },
  {
   "cell_type": "code",
   "execution_count": 30,
   "metadata": {},
   "outputs": [
    {
     "name": "stdout",
     "output_type": "stream",
     "text": [
      "['0\\n', '1\\n', '4\\n', '9\\n']\n",
      "['16\\n', '25\\n', '36\\n', '49\\n']\n",
      "['64\\n', '81\\n', '100\\n']\n"
     ]
    }
   ],
   "source": [
    "class BatchIterator():\n",
    "    def __init__(self,data,sample_size):\n",
    "        self.data = open(data ,'r')\n",
    "        self.sample_size = sample_size\n",
    "    \n",
    "    def __iter__(self):\n",
    "        return self \n",
    "    \n",
    "    def __next__(self):\n",
    "        batch =[]\n",
    "        for _ in range(self.sample_size):\n",
    "            line = self.data.readline()\n",
    "            if not line :\n",
    "                if batch:\n",
    "                    return batch \n",
    "                self.data.close()\n",
    "                raise StopIteration\n",
    "            batch.append(line)\n",
    "        return batch\n",
    "\n",
    "    \n",
    "with open('text.txt','w') as file :\n",
    "    for i in a :\n",
    "        file.write(str(i)+'\\n')\n",
    "\n",
    "reader = BatchIterator('text.txt',4)\n",
    "\n",
    "for i in reader:\n",
    "    print(i)\n"
   ]
  },
  {
   "cell_type": "code",
   "execution_count": null,
   "metadata": {},
   "outputs": [],
   "source": []
  }
 ],
 "metadata": {
  "kernelspec": {
   "display_name": "base",
   "language": "python",
   "name": "python3"
  },
  "language_info": {
   "codemirror_mode": {
    "name": "ipython",
    "version": 3
   },
   "file_extension": ".py",
   "mimetype": "text/x-python",
   "name": "python",
   "nbconvert_exporter": "python",
   "pygments_lexer": "ipython3",
   "version": "3.11.8"
  }
 },
 "nbformat": 4,
 "nbformat_minor": 2
}
