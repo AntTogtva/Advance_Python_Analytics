{
 "cells": [
  {
   "cell_type": "code",
   "execution_count": 40,
   "metadata": {},
   "outputs": [],
   "source": [
    "# create a bank account management system : \n",
    "# creating a object of account \n",
    "from datetime import datetime \n",
    "import random \n",
    "class Account():\n",
    "    \n",
    "    def __init__(self,Account_number :int, holder_name :str,holder_age :int, kyc :bool, Account_balance:float,Account_Password:str,Security_key:int, account_opentime : datetime = None, Transection_details:list = None,):\n",
    "        self.__Account_number  = Account_number\n",
    "        self.__holder_name = holder_name\n",
    "        self.__holder_age = holder_age\n",
    "        self.kyc = kyc\n",
    "        self.__Account_balance = Account_balance\n",
    "        # self.__account_opentime = account_opentime\n",
    "        # self.__Transection_details = Transection_details\n",
    "        self.__Account_Password = Account_Password\n",
    "        self.__Security_key = Security_key\n",
    "\n",
    "        # creating the kpre default values : \n",
    "\n",
    "        self.__account_openttime = account_opentime if account_opentime else datetime.now()\n",
    "        self.__Trsnsection_details = Transection_details if Transection_details is not None else []\n",
    "        self.__Id_record = set()\n",
    "\n",
    "    def __verification(self,Security_key,Account_Password):\n",
    "            if not self.kyc:\n",
    "                print(\"❌Access Denied! KYC verification is incomplete. Please visit your bank.\")\n",
    "                return False\n",
    "            if (Security_key != self.__Security_key):\n",
    "                print(\"❌ Access Denied! Incorrect Security Key.\")\n",
    "                return False \n",
    "            if (Account_Password != self.__Account_Password):\n",
    "                print(\"❌ Access Denied! Incorrect Account Password.\")\n",
    "                return False \n",
    "\n",
    "            \n",
    "            print(\"✅ Verification Successful! Access Granted. \")\n",
    "            return True \n",
    "        \n",
    "    def Balance_inquiry(self,Account_Password,Security_key):\n",
    "            if not self.__verification(Security_key,Account_Password):\n",
    "                return # stop is verification is fail \n",
    "            \n",
    "            print(f\"Your account Balance is : {self.__Account_balance}\")\n",
    "\n",
    "    def __transection_id(self):\n",
    "            while True:\n",
    "                tx_id = random.randint(100000,999999)\n",
    "                if tx_id not in self.__Id_record:\n",
    "                    self.__Id_record.add(tx_id)\n",
    "                    return tx_id\n",
    "\n",
    "\n",
    "    def Deposite(self,Account_Password, Security_key,Amount,Remarks):\n",
    "            varification_time = None\n",
    "            if not self.__verification(Security_key,Account_Password):\n",
    "                return # stop is verification is fail \n",
    "            varification_time = datetime.now()\n",
    "            time = datetime.now()\n",
    "            transaction_sucess = False\n",
    "            try:\n",
    "                self.__Account_balance += Amount\n",
    "                transaction_sucess = True \n",
    "            except Exception as e :\n",
    "                print(f\"transection fail due to error {e} occurs please try again after some time \")\n",
    "                return \n",
    "            Transection_id=self.__transection_id()\n",
    "\n",
    "            transection_info ={\"verification time\":varification_time ,\"transection time\":time,\"Amount\" :Amount,\"Updated Balance\":self.__Account_balance,\"Transection_status\":transaction_sucess,\"Remark\":Remarks,\"Transection_id\":Transection_id}\n",
    "            self.__Trsnsection_details.append(transection_info)\n",
    "            print(\"Your Trasection sucessfull\")\n",
    "            return       \n",
    "        \n",
    "    def Widrow(self,Account_Password, Security_key,Amount,Remarks):\n",
    "            varification_time = None\n",
    "            if not self.__verification(Security_key,Account_Password):\n",
    "                return # stop is verification is fail \n",
    "            varification_time = datetime.now()\n",
    "            \n",
    "            if self.__Account_balance < Amount :\n",
    "                 print(\"❌ Insufficient Balance. Please check your balance first.\")\n",
    "                 return\n",
    "            time = None\n",
    "            transaction_sucess = False\n",
    "            try :\n",
    "               \n",
    "                    self.__Account_balance -= Amount\n",
    "                    time = datetime.now()\n",
    "                    transaction_sucess = True \n",
    "            except Exception as e :\n",
    "                print(f\"transection fail due to error {e} occurs please try again after some time \")\n",
    "                return\n",
    "            Transection_id=self.__transection_id()\n",
    "\n",
    "            transection_info ={\"verification time\":varification_time ,\"transection time\":time,\"Amount\" :Amount,\"Updated Balance\":self.__Account_balance,\"Transection_status\":transaction_sucess,\"Remark\":Remarks,\"Transection_id\":Transection_id}\n",
    "            self.__Trsnsection_details.append(transection_info)\n",
    "            print(\"Your Trasection sucessfull\")\n",
    "            return       \n",
    "        \n",
    "    def transaction_detail(self,Account_Password, Security_key):\n",
    "            if not self.__verification(Security_key,Account_Password):\n",
    "                return # stop is verification is fail \n",
    "            for item in self.__Trsnsection_details:\n",
    "                for key , val  in item.items():\n",
    "                    print(f\"{key} : {val}\")\n",
    "\n",
    "                \n"
   ]
  },
  {
   "cell_type": "code",
   "execution_count": 41,
   "metadata": {},
   "outputs": [],
   "source": [
    "Soham_acc = Account(3289243248,\"Soham D. Piprotar \",20 ,True , 1000.32,'Soham1305@piprotar',997788)"
   ]
  },
  {
   "cell_type": "code",
   "execution_count": 42,
   "metadata": {},
   "outputs": [
    {
     "name": "stdout",
     "output_type": "stream",
     "text": [
      "<__main__.Account object at 0x000001F790E0BA10>\n",
      "✅ Verification Successful! Access Granted. \n",
      "Your Trasection sucessfull\n"
     ]
    }
   ],
   "source": [
    "print(Soham_acc)\n",
    "Soham_acc.kyc\n",
    "Soham_acc.Deposite(\"Soham1305@piprotar\",997788,1101.21,\"Got money from papa\")"
   ]
  },
  {
   "cell_type": "code",
   "execution_count": 43,
   "metadata": {},
   "outputs": [
    {
     "name": "stdout",
     "output_type": "stream",
     "text": [
      "✅ Verification Successful! Access Granted. \n",
      "Your Trasection sucessfull\n"
     ]
    }
   ],
   "source": [
    "Soham_acc.Widrow(\"Soham1305@piprotar\",997788,33.323,\"need monwy for buy milk\")"
   ]
  },
  {
   "cell_type": "code",
   "execution_count": 44,
   "metadata": {},
   "outputs": [
    {
     "name": "stdout",
     "output_type": "stream",
     "text": [
      "✅ Verification Successful! Access Granted. \n",
      "verification time : 2025-02-15 12:15:45.847330\n",
      "transection time : 2025-02-15 12:15:45.847330\n",
      "Amount : 1101.21\n",
      "Updated Balance : 2101.53\n",
      "Transection_status : True\n",
      "Remark : Got money from papa\n",
      "Transection_id : 439891\n",
      "verification time : 2025-02-15 12:17:55.678576\n",
      "transection time : 2025-02-15 12:17:55.678576\n",
      "Amount : 33.323\n",
      "Updated Balance : 2068.2070000000003\n",
      "Transection_status : True\n",
      "Remark : need monwy for buy milk\n",
      "Transection_id : 711494\n"
     ]
    }
   ],
   "source": [
    "Soham_acc.transaction_detail(\"Soham1305@piprotar\",997788)"
   ]
  },
  {
   "cell_type": "code",
   "execution_count": 45,
   "metadata": {},
   "outputs": [
    {
     "name": "stdout",
     "output_type": "stream",
     "text": [
      "✅ Verification Successful! Access Granted. \n",
      "Your account Balance is : 2068.2070000000003\n"
     ]
    }
   ],
   "source": [
    "Soham_acc.Balance_inquiry(\"Soham1305@piprotar\",997788)"
   ]
  },
  {
   "cell_type": "code",
   "execution_count": 46,
   "metadata": {},
   "outputs": [
    {
     "name": "stdout",
     "output_type": "stream",
     "text": [
      "❌ Access Denied! Incorrect Account Password.\n"
     ]
    }
   ],
   "source": [
    "Soham_acc.Balance_inquiry(\"Soham\",997788)"
   ]
  },
  {
   "cell_type": "code",
   "execution_count": 47,
   "metadata": {},
   "outputs": [
    {
     "name": "stdout",
     "output_type": "stream",
     "text": [
      "❌ Access Denied! Incorrect Security Key.\n"
     ]
    }
   ],
   "source": [
    "Soham_acc.Balance_inquiry('Soham1305@piprotar',923328)"
   ]
  },
  {
   "cell_type": "code",
   "execution_count": 48,
   "metadata": {},
   "outputs": [
    {
     "name": "stdout",
     "output_type": "stream",
     "text": [
      "✅ Verification Successful! Access Granted. \n",
      "❌ Insufficient Balance. Please check your balance first.\n"
     ]
    }
   ],
   "source": [
    "Soham_acc.Widrow(\"Soham1305@piprotar\",997788,3898382,\"i am a thef\")"
   ]
  },
  {
   "cell_type": "code",
   "execution_count": null,
   "metadata": {},
   "outputs": [
    {
     "ename": "AttributeError",
     "evalue": "'Account' object has no attribute '__Account_Password'",
     "output_type": "error",
     "traceback": [
      "\u001b[1;31m---------------------------------------------------------------------------\u001b[0m",
      "\u001b[1;31mAttributeError\u001b[0m                            Traceback (most recent call last)",
      "Cell \u001b[1;32mIn[49], line 1\u001b[0m\n\u001b[1;32m----> 1\u001b[0m Soham_acc\u001b[38;5;241m.\u001b[39m__Account_Password\n",
      "\u001b[1;31mAttributeError\u001b[0m: 'Account' object has no attribute '__Account_Password'"
     ]
    }
   ],
   "source": [
    "# Soham_acc.__Account_Password   ---> your data is sequre don't worry about it "
   ]
  },
  {
   "cell_type": "code",
   "execution_count": null,
   "metadata": {},
   "outputs": [],
   "source": [
    "print(\"Thank you for banking with us : \")"
   ]
  }
 ],
 "metadata": {
  "kernelspec": {
   "display_name": "base",
   "language": "python",
   "name": "python3"
  },
  "language_info": {
   "codemirror_mode": {
    "name": "ipython",
    "version": 3
   },
   "file_extension": ".py",
   "mimetype": "text/x-python",
   "name": "python",
   "nbconvert_exporter": "python",
   "pygments_lexer": "ipython3",
   "version": "3.11.8"
  }
 },
 "nbformat": 4,
 "nbformat_minor": 2
}
