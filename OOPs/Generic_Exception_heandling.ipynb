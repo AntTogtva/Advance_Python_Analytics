{
 "cells": [
  {
   "cell_type": "code",
   "execution_count": 2,
   "metadata": {},
   "outputs": [
    {
     "ename": "Bankerror",
     "evalue": "❌ Insufficient funds!",
     "output_type": "error",
     "traceback": [
      "\u001b[1;31m---------------------------------------------------------------------------\u001b[0m",
      "\u001b[1;31mBankerror\u001b[0m                                 Traceback (most recent call last)",
      "Cell \u001b[1;32mIn[2], line 22\u001b[0m\n\u001b[0;32m     18\u001b[0m         \u001b[38;5;28;01mreturn\u001b[39;00m \u001b[38;5;28mself\u001b[39m\u001b[38;5;241m.\u001b[39mbalance\n\u001b[0;32m     20\u001b[0m a1 \u001b[38;5;241m=\u001b[39m ATM(\u001b[38;5;241m500\u001b[39m,\u001b[38;5;241m1000\u001b[39m)\n\u001b[1;32m---> 22\u001b[0m a1\u001b[38;5;241m.\u001b[39mwithdraw(\u001b[38;5;241m1500\u001b[39m)\n\u001b[0;32m     25\u001b[0m \u001b[38;5;28mprint\u001b[39m(\u001b[38;5;124m\"\u001b[39m\u001b[38;5;124mYour transection is not completed \u001b[39m\u001b[38;5;124m\"\u001b[39m)\n",
      "Cell \u001b[1;32mIn[2], line 14\u001b[0m, in \u001b[0;36mATM.withdraw\u001b[1;34m(self, amount)\u001b[0m\n\u001b[0;32m     12\u001b[0m \u001b[38;5;28;01mdef\u001b[39;00m \u001b[38;5;21mwithdraw\u001b[39m(\u001b[38;5;28mself\u001b[39m,amount):\n\u001b[0;32m     13\u001b[0m     \u001b[38;5;28;01mif\u001b[39;00m amount \u001b[38;5;241m>\u001b[39m \u001b[38;5;28mself\u001b[39m\u001b[38;5;241m.\u001b[39mbalance :\n\u001b[1;32m---> 14\u001b[0m         \u001b[38;5;28;01mraise\u001b[39;00m Bankerror(\u001b[38;5;124m\"\u001b[39m\u001b[38;5;124m❌ Insufficient funds!\u001b[39m\u001b[38;5;124m\"\u001b[39m,\u001b[38;5;241m101\u001b[39m)\n\u001b[0;32m     15\u001b[0m     \u001b[38;5;28;01mif\u001b[39;00m amount \u001b[38;5;241m==\u001b[39m \u001b[38;5;241m0\u001b[39m \u001b[38;5;129;01mor\u001b[39;00m amount \u001b[38;5;241m<\u001b[39m \u001b[38;5;241m0\u001b[39m : \n\u001b[0;32m     16\u001b[0m         \u001b[38;5;28;01mraise\u001b[39;00m Bankerror(\u001b[38;5;124m\"\u001b[39m\u001b[38;5;124m❌ Invalid transaction amount!\u001b[39m\u001b[38;5;124m\"\u001b[39m,\u001b[38;5;241m102\u001b[39m)\n",
      "\u001b[1;31mBankerror\u001b[0m: ❌ Insufficient funds!"
     ]
    }
   ],
   "source": [
    "class Bankerror(Exception):\n",
    "    \" A generic error for all ATM related error : \"\n",
    "    def __init__(self,message,error_code):\n",
    "        super().__init__(message)\n",
    "        self.error_code = error_code\n",
    "\n",
    "class ATM():\n",
    "    def __init__(self,amount,balance):\n",
    "        self.amount = amount \n",
    "        self.balance = balance\n",
    "    \n",
    "    def withdraw(self,amount):\n",
    "        if amount > self.balance :\n",
    "            raise Bankerror(\"❌ Insufficient funds!\",101)\n",
    "        if amount == 0 or amount < 0 : \n",
    "            raise Bankerror(\"❌ Invalid transaction amount!\",102)\n",
    "        self.balance -= amount\n",
    "        return self.balance\n",
    "\n",
    "a1 = ATM(500,1000)\n",
    "\n",
    "a1.withdraw(1500)\n",
    "\n",
    "\n",
    "print(\"Your transection is not completed \")\n",
    "\n",
    "    "
   ]
  },
  {
   "cell_type": "code",
   "execution_count": null,
   "metadata": {},
   "outputs": [],
   "source": []
  }
 ],
 "metadata": {
  "kernelspec": {
   "display_name": "base",
   "language": "python",
   "name": "python3"
  },
  "language_info": {
   "codemirror_mode": {
    "name": "ipython",
    "version": 3
   },
   "file_extension": ".py",
   "mimetype": "text/x-python",
   "name": "python",
   "nbconvert_exporter": "python",
   "pygments_lexer": "ipython3",
   "version": "3.11.8"
  }
 },
 "nbformat": 4,
 "nbformat_minor": 2
}
