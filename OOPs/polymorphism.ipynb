{
 "cells": [
  {
   "cell_type": "code",
   "execution_count": 1,
   "metadata": {},
   "outputs": [],
   "source": [
    "from abc import ABC,abstractmethod"
   ]
  },
  {
   "cell_type": "code",
   "execution_count": null,
   "metadata": {},
   "outputs": [],
   "source": [
    "# this call mehtod overloaing ( chat GPT call it runtime poluymorphism )\n",
    "class Animal():\n",
    "    def __init__(self):\n",
    "        pass \n",
    "    def speak(self):\n",
    "        return f\"animal have sound\"\n",
    "        "
   ]
  },
  {
   "cell_type": "code",
   "execution_count": 3,
   "metadata": {},
   "outputs": [],
   "source": [
    "class Dog(Animal):\n",
    "    def __init__(self):\n",
    "        pass \n",
    "    def speak(self):\n",
    "        return f\"woof woof !\""
   ]
  },
  {
   "cell_type": "code",
   "execution_count": 4,
   "metadata": {},
   "outputs": [],
   "source": [
    "class Cat(Animal):\n",
    "    def __init__(self):\n",
    "        pass \n",
    "    def speak(self):\n",
    "        return f\"meow meow !\""
   ]
  },
  {
   "cell_type": "code",
   "execution_count": 5,
   "metadata": {},
   "outputs": [
    {
     "name": "stdout",
     "output_type": "stream",
     "text": [
      "woof woof !\n",
      "meow meow !\n",
      "animal have sound\n"
     ]
    }
   ],
   "source": [
    "dog = Dog()\n",
    "cat = Cat()\n",
    "animal = Animal()\n",
    "\n",
    "lst = [dog , cat , animal]\n",
    "\n",
    "for item in lst : \n",
    "    print(item.speak())"
   ]
  },
  {
   "cell_type": "code",
   "execution_count": 7,
   "metadata": {},
   "outputs": [
    {
     "name": "stdout",
     "output_type": "stream",
     "text": [
      "max speed of car is 180\n",
      "max_speed of bike is 100\n"
     ]
    }
   ],
   "source": [
    "# polymorphism with abstact base class \n",
    "\n",
    "class Vehicle():\n",
    "    def __init__(self):\n",
    "        pass\n",
    "    @abstractmethod\n",
    "    def max_speed(self):\n",
    "        pass\n",
    "\n",
    "class Bike(Vehicle):\n",
    "    def __inti__(self):\n",
    "        pass\n",
    "\n",
    "    def max_speed(self):\n",
    "        return f\"max_speed of bike is 100\"\n",
    "    \n",
    "class Car(Vehicle):\n",
    "    def max_speed(self):\n",
    "        return f\"max speed of car is 180\"\n",
    "    \n",
    "c = Car()\n",
    "b = Bike()\n",
    "print(c.max_speed())\n",
    "print(b.max_speed())"
   ]
  },
  {
   "cell_type": "code",
   "execution_count": 13,
   "metadata": {},
   "outputs": [
    {
     "name": "stdout",
     "output_type": "stream",
     "text": [
      "(8, 8)\n"
     ]
    }
   ],
   "source": [
    "# operator overloading \n",
    "\n",
    "class Vector():\n",
    "    def __init__(self , x, y):\n",
    "        self.x = x \n",
    "        self.y = y \n",
    "\n",
    "    def __add__(self,other):\n",
    "        return (self.x+ other.x , self.y+other.y)\n",
    "V1 =Vector(3,5)\n",
    "V2 = Vector(5,3)\n",
    "print(V1+V2)"
   ]
  },
  {
   "cell_type": "code",
   "execution_count": null,
   "metadata": {},
   "outputs": [],
   "source": []
  }
 ],
 "metadata": {
  "kernelspec": {
   "display_name": "base",
   "language": "python",
   "name": "python3"
  },
  "language_info": {
   "codemirror_mode": {
    "name": "ipython",
    "version": 3
   },
   "file_extension": ".py",
   "mimetype": "text/x-python",
   "name": "python",
   "nbconvert_exporter": "python",
   "pygments_lexer": "ipython3",
   "version": "3.11.8"
  }
 },
 "nbformat": 4,
 "nbformat_minor": 2
}
