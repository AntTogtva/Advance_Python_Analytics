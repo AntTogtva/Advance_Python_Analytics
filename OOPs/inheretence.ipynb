{
 "cells": [
  {
   "cell_type": "code",
   "execution_count": 1,
   "metadata": {},
   "outputs": [],
   "source": [
    "class Vihcle():\n",
    "    def __init__(self,max_speed):\n",
    "        self.max_speed = max_speed\n",
    "    def display_info(self):\n",
    "        return f\"the maximum speed is {self.max_speed}\""
   ]
  },
  {
   "cell_type": "code",
   "execution_count": 2,
   "metadata": {},
   "outputs": [],
   "source": [
    "class Car(Vihcle):\n",
    "    def __init__(self,max_speed,feul_type):\n",
    "        super().__init__(max_speed)\n",
    "        self.feul_type = feul_type \n",
    "\n",
    "\n"
   ]
  },
  {
   "cell_type": "code",
   "execution_count": 3,
   "metadata": {},
   "outputs": [
    {
     "name": "stdout",
     "output_type": "stream",
     "text": [
      "the maximum speed is 100\n"
     ]
    }
   ],
   "source": [
    "My_car = Car(100,\"patrol\")\n",
    "print(My_car.display_info())"
   ]
  },
  {
   "cell_type": "code",
   "execution_count": 6,
   "metadata": {},
   "outputs": [],
   "source": [
    "# multiple inheretence :  ( solve accroding to question : \n",
    "class Engine():\n",
    "    def __init__(self):\n",
    "        pass\n",
    "    def engine_type(self):\n",
    "        return f\"This car have a patrol engine \"\n"
   ]
  },
  {
   "cell_type": "code",
   "execution_count": 7,
   "metadata": {},
   "outputs": [],
   "source": [
    "class Wheels():\n",
    "    def __init__(self):\n",
    "        pass \n",
    "\n",
    "    def num_wheels(self):\n",
    "        return f\"the car have 4 wheels \""
   ]
  },
  {
   "cell_type": "code",
   "execution_count": 9,
   "metadata": {},
   "outputs": [
    {
     "name": "stdout",
     "output_type": "stream",
     "text": [
      "This car have a patrol engine  the car have 4 wheels \n"
     ]
    }
   ],
   "source": [
    "class Car(Engine , Wheels): \n",
    "    def __init__(self):\n",
    "        pass \n",
    "my_car = Car()\n",
    "print(my_car.engine_type(),my_car.num_wheels())"
   ]
  },
  {
   "cell_type": "code",
   "execution_count": null,
   "metadata": {},
   "outputs": [],
   "source": []
  }
 ],
 "metadata": {
  "kernelspec": {
   "display_name": "base",
   "language": "python",
   "name": "python3"
  },
  "language_info": {
   "codemirror_mode": {
    "name": "ipython",
    "version": 3
   },
   "file_extension": ".py",
   "mimetype": "text/x-python",
   "name": "python",
   "nbconvert_exporter": "python",
   "pygments_lexer": "ipython3",
   "version": "3.11.8"
  }
 },
 "nbformat": 4,
 "nbformat_minor": 2
}
