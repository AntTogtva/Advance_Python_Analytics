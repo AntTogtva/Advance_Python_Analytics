{
 "cells": [
  {
   "cell_type": "code",
   "execution_count": null,
   "metadata": {},
   "outputs": [
    {
     "name": "stdout",
     "output_type": "stream",
     "text": [
      "70\n",
      "90\n"
     ]
    }
   ],
   "source": [
    "# question 1 : \n",
    "\n",
    "class Student():\n",
    "    def __init__(self,name ,marks):\n",
    "        self.__name = name\n",
    "        self.__marks = marks\n",
    "\n",
    "    def get_marks(self):\n",
    "        return self.__marks\n",
    "    def set_marks(self,new_marks):\n",
    "        if new_marks > 100 or new_marks <0:\n",
    "            return \"there is wrong entry : \"\n",
    "        self.__marks = new_marks\n",
    "\n",
    "s1 = Student(\"soham\",70)\n",
    "print(s1.get_marks())\n",
    "s1.set_marks(90)\n",
    "print(s1.get_marks())"
   ]
  },
  {
   "cell_type": "code",
   "execution_count": 4,
   "metadata": {},
   "outputs": [
    {
     "name": "stdout",
     "output_type": "stream",
     "text": [
      "22232\n",
      "None\n",
      "None\n",
      "your current balance is : 18541 , you can't widrow 3829892\n",
      "18541\n"
     ]
    }
   ],
   "source": [
    "#question 2 : \n",
    "\n",
    "class Bank_account():\n",
    "    def __init__(self,balance):\n",
    "        self.__balance = balance\n",
    "    def deposite(self,amount):\n",
    "        if amount <0 :\n",
    "            return \"please enter amount in positive \"\n",
    "        self.__balance += amount\n",
    "    def widrow(self,amount):\n",
    "        if amount > self.__balance : \n",
    "            return f\"your current balance is : {self.__balance} , you can't widrow {amount }\"\n",
    "        self.__balance -= amount\n",
    "    def get_balance(self):\n",
    "        return self.__balance\n",
    "    \n",
    "b1 = Bank_account(22232)\n",
    "print(b1.get_balance())\n",
    "print(b1.deposite(232))\n",
    "print(b1.widrow(3923))\n",
    "print(b1.widrow(3829892))\n",
    "print(b1.get_balance())\n",
    "    "
   ]
  },
  {
   "cell_type": "code",
   "execution_count": null,
   "metadata": {},
   "outputs": [],
   "source": []
  }
 ],
 "metadata": {
  "kernelspec": {
   "display_name": "base",
   "language": "python",
   "name": "python3"
  },
  "language_info": {
   "codemirror_mode": {
    "name": "ipython",
    "version": 3
   },
   "file_extension": ".py",
   "mimetype": "text/x-python",
   "name": "python",
   "nbconvert_exporter": "python",
   "pygments_lexer": "ipython3",
   "version": "3.11.8"
  }
 },
 "nbformat": 4,
 "nbformat_minor": 2
}
