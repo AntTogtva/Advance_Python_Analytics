{
 "cells": [
  {
   "cell_type": "code",
   "execution_count": 1,
   "metadata": {},
   "outputs": [],
   "source": [
    "import numpy as np "
   ]
  },
  {
   "cell_type": "code",
   "execution_count": 2,
   "metadata": {},
   "outputs": [],
   "source": [
    "lst = [x**2 for x in range(0,10)]\n",
    "\n",
    "a = np.array(lst)"
   ]
  },
  {
   "cell_type": "code",
   "execution_count": 6,
   "metadata": {},
   "outputs": [
    {
     "name": "stdout",
     "output_type": "stream",
     "text": [
      "10\n",
      "(10,)\n",
      "int32\n",
      "1\n"
     ]
    }
   ],
   "source": [
    "print(a.size)\n",
    "print(a.shape)\n",
    "print(a.dtype)\n",
    "print(a.ndim)"
   ]
  },
  {
   "cell_type": "code",
   "execution_count": 10,
   "metadata": {},
   "outputs": [
    {
     "name": "stdout",
     "output_type": "stream",
     "text": [
      "[[0 1 2 3 4]\n",
      " [5 6 7 8 9]]\n",
      "[0 1 2 3 4 5 6 7 8 9]\n"
     ]
    }
   ],
   "source": [
    "# practice on reshaping and flattering the array \n",
    "\n",
    "lst1 = np.arange(0,10).reshape(2,5)\n",
    "print(lst1)\n",
    "print(lst1.ravel())"
   ]
  },
  {
   "cell_type": "code",
   "execution_count": 11,
   "metadata": {},
   "outputs": [
    {
     "name": "stdout",
     "output_type": "stream",
     "text": [
      "[[ 0  1  2  3  4]\n",
      " [ 5  6  7  8  9]\n",
      " [10 11 12 13 14]]\n"
     ]
    }
   ],
   "source": [
    "#now it's time to learn indexing in numpy array ; \n",
    "\n",
    "a  = np.arange(0,15,1).reshape(3,5)\n",
    "print(a)"
   ]
  },
  {
   "cell_type": "code",
   "execution_count": 12,
   "metadata": {},
   "outputs": [
    {
     "name": "stdout",
     "output_type": "stream",
     "text": [
      "13\n"
     ]
    }
   ],
   "source": [
    "print(a[2][3])"
   ]
  },
  {
   "cell_type": "code",
   "execution_count": 14,
   "metadata": {},
   "outputs": [
    {
     "name": "stdout",
     "output_type": "stream",
     "text": [
      "[[ 6  7]\n",
      " [11 12]]\n"
     ]
    }
   ],
   "source": [
    "print(a[1:,1:3])"
   ]
  },
  {
   "cell_type": "code",
   "execution_count": 30,
   "metadata": {},
   "outputs": [
    {
     "name": "stdout",
     "output_type": "stream",
     "text": [
      "(9,)\n"
     ]
    }
   ],
   "source": [
    "print(a[a>5].shape)  # it's for forgot the shape like flattering without knowing it "
   ]
  },
  {
   "cell_type": "code",
   "execution_count": 35,
   "metadata": {},
   "outputs": [
    {
     "name": "stdout",
     "output_type": "stream",
     "text": [
      "[ 8 14]\n"
     ]
    }
   ],
   "source": [
    "print(a[[1,2],[3,4]]) # it's give result in the way it's seems to follow this structure like reurns the a[1,3] elements and a[2,4] elements "
   ]
  },
  {
   "cell_type": "code",
   "execution_count": 36,
   "metadata": {},
   "outputs": [
    {
     "data": {
      "text/plain": [
       "array([[[1., 1., 1., 1., 1., 1.],\n",
       "        [1., 1., 1., 1., 1., 1.],\n",
       "        [1., 1., 1., 1., 1., 1.],\n",
       "        [1., 1., 1., 1., 1., 1.],\n",
       "        [1., 1., 1., 1., 1., 1.]],\n",
       "\n",
       "       [[1., 1., 1., 1., 1., 1.],\n",
       "        [1., 1., 1., 1., 1., 1.],\n",
       "        [1., 1., 1., 1., 1., 1.],\n",
       "        [1., 1., 1., 1., 1., 1.],\n",
       "        [1., 1., 1., 1., 1., 1.]],\n",
       "\n",
       "       [[1., 1., 1., 1., 1., 1.],\n",
       "        [1., 1., 1., 1., 1., 1.],\n",
       "        [1., 1., 1., 1., 1., 1.],\n",
       "        [1., 1., 1., 1., 1., 1.],\n",
       "        [1., 1., 1., 1., 1., 1.]]])"
      ]
     },
     "execution_count": 36,
     "metadata": {},
     "output_type": "execute_result"
    }
   ],
   "source": [
    "np.ones((3,5,6))"
   ]
  },
  {
   "cell_type": "code",
   "execution_count": 39,
   "metadata": {},
   "outputs": [
    {
     "data": {
      "text/plain": [
       "array([[1., 0., 0., 0., 0.],\n",
       "       [0., 1., 0., 0., 0.],\n",
       "       [0., 0., 1., 0., 0.],\n",
       "       [0., 0., 0., 1., 0.],\n",
       "       [0., 0., 0., 0., 1.]])"
      ]
     },
     "execution_count": 39,
     "metadata": {},
     "output_type": "execute_result"
    }
   ],
   "source": [
    "np.eye(5)"
   ]
  },
  {
   "cell_type": "code",
   "execution_count": 46,
   "metadata": {},
   "outputs": [
    {
     "name": "stdout",
     "output_type": "stream",
     "text": [
      "7.0\n",
      "4.320493798938574\n",
      "18.666666666666668\n"
     ]
    }
   ],
   "source": [
    "# inbuild function like univesral function  : \n",
    "\n",
    "print(a.mean())\n",
    "print(a.std())\n",
    "print(a.var())\n"
   ]
  },
  {
   "cell_type": "code",
   "execution_count": 47,
   "metadata": {},
   "outputs": [
    {
     "name": "stdout",
     "output_type": "stream",
     "text": [
      "0\n",
      "14\n",
      "0\n",
      "14\n"
     ]
    }
   ],
   "source": [
    "print(a.min())\n",
    "print(a.max())\n",
    "print(a.argmin())\n",
    "print(a.argmax())"
   ]
  },
  {
   "cell_type": "code",
   "execution_count": 51,
   "metadata": {},
   "outputs": [
    {
     "name": "stdout",
     "output_type": "stream",
     "text": [
      "[[ 1  2  3  4  5]\n",
      " [ 6  7  8  9 10]]\n",
      "[1.  1.2 1.4 1.6 1.8 2. ]\n"
     ]
    }
   ],
   "source": [
    "# usefull array funciton \n",
    "\n",
    "a = np.arange(1,11,1).reshape(2,5)\n",
    "b = np.linspace(1,2,6)\n",
    "print(a)\n",
    "print(b)"
   ]
  },
  {
   "cell_type": "code",
   "execution_count": 58,
   "metadata": {},
   "outputs": [
    {
     "name": "stdout",
     "output_type": "stream",
     "text": [
      "[[0.19993119 0.40131844 0.65883644]\n",
      " [0.81926996 0.58552707 0.85712373]\n",
      " [0.13287328 0.23820948 0.7084105 ]]\n",
      "[[23 10  7]\n",
      " [45 82 84]\n",
      " [98 38 98]]\n",
      "[[-0.73719537 -1.19612589  0.66873709  0.16750324  1.21482044]\n",
      " [-2.50941624 -0.50062649 -0.90754843  0.06675496 -2.59947624]\n",
      " [-0.49265315  1.2571065   1.87207134 -0.76367451 -0.33005879]]\n"
     ]
    }
   ],
   "source": [
    "# how good with random numbers \n",
    "\n",
    "a = np.random.rand(3,3)\n",
    "print(a)\n",
    "b = np.random.randint(1,100,(3,3))\n",
    "print(b)\n",
    "c = np.random.randn(3,5) # follows the gaussian distribution \n",
    "print(c)"
   ]
  },
  {
   "cell_type": "code",
   "execution_count": 65,
   "metadata": {},
   "outputs": [
    {
     "name": "stdout",
     "output_type": "stream",
     "text": [
      "[[ 251  287  124]\n",
      " [ 686  732  404]\n",
      " [1121 1177  684]]\n",
      "[[ 1  6 11]\n",
      " [ 2  7 12]\n",
      " [ 3  8 13]\n",
      " [ 4  9 14]\n",
      " [ 5 10 15]]\n",
      "[[18 28  7 14 20]\n",
      " [ 2 27 21 27 12]\n",
      " [19 10 24  2  1]]\n",
      "-1258116885.999999\n",
      "[[ 0.0078703  -0.01517975  0.01335424  0.00239406 -0.00064809]\n",
      " [-0.02252647  0.01144606  0.00530616 -0.00218697  0.00531911]\n",
      " [ 0.01136274 -0.00389017  0.01353262 -0.01058613 -0.0019244 ]\n",
      " [ 0.01757916 -0.00565727 -0.00697967  0.01336031 -0.01686373]\n",
      " [-0.00809698  0.01225875 -0.0160129   0.00134651  0.01429747]]\n",
      "[212.70244394  78.79273714 -72.4555473  -35.41532752 -48.62430626] [[ 0.59232357  0.71411598  0.62395442 -0.5330953   0.63893538]\n",
      " [ 0.32580702 -0.1162003  -0.00133661  0.27481262 -0.29790054]\n",
      " [ 0.3830271  -0.33579541 -0.24656226 -0.3039503   0.00268724]\n",
      " [ 0.57617752  0.56923835 -0.70074613  0.73815643 -0.67493958]\n",
      " [ 0.25359866 -0.1993615   0.24257166  0.05501566  0.21786737]]\n"
     ]
    }
   ],
   "source": [
    "# matrix operation \n",
    "\n",
    "a = np.arange(1,16,1).reshape(3,5)\n",
    "b =np.random.randint(1,30,(5,3))\n",
    "c  = np.random.randint(1,100,(5,5))\n",
    "print(np.dot(a,b))\n",
    "print(a.T)\n",
    "print(b.T)\n",
    "print(np.linalg.det(c))\n",
    "print(np.linalg.inv(c))\n",
    "\n",
    "print(vel,vec)"
   ]
  },
  {
   "cell_type": "code",
   "execution_count": 68,
   "metadata": {},
   "outputs": [
    {
     "name": "stdout",
     "output_type": "stream",
     "text": [
      "EigResult(eigenvalues=array([263.47786226 +0.j        , -63.4105298  +0.j        ,\n",
      "        49.2640388 +11.57583992j,  49.2640388 -11.57583992j,\n",
      "        29.40458992 +0.j        ]), eigenvectors=array([[ 0.31482333+0.j        , -0.5790054 +0.j        ,\n",
      "         0.07420568+0.03244868j,  0.07420568-0.03244868j,\n",
      "        -0.33138049+0.j        ],\n",
      "       [ 0.58176843+0.j        , -0.55084749+0.j        ,\n",
      "        -0.39799613-0.24830156j, -0.39799613+0.24830156j,\n",
      "         0.49680302+0.j        ],\n",
      "       [ 0.48223901+0.j        ,  0.32890073+0.j        ,\n",
      "        -0.46664976-0.26164227j, -0.46664976+0.26164227j,\n",
      "         0.062178  +0.j        ],\n",
      "       [ 0.52560994+0.j        ,  0.45069954+0.j        ,\n",
      "         0.55049159+0.j        ,  0.55049159-0.j        ,\n",
      "        -0.72129319+0.j        ],\n",
      "       [ 0.23154156+0.j        ,  0.22363817+0.j        ,\n",
      "         0.21218467+0.37296651j,  0.21218467-0.37296651j,\n",
      "         0.3453169 +0.j        ]]))\n",
      "[263.47786226 +0.j         -63.4105298  +0.j\n",
      "  49.2640388 +11.57583992j  49.2640388 -11.57583992j\n",
      "  29.40458992 +0.j        ] [[ 0.31482333+0.j         -0.5790054 +0.j          0.07420568+0.03244868j\n",
      "   0.07420568-0.03244868j -0.33138049+0.j        ]\n",
      " [ 0.58176843+0.j         -0.55084749+0.j         -0.39799613-0.24830156j\n",
      "  -0.39799613+0.24830156j  0.49680302+0.j        ]\n",
      " [ 0.48223901+0.j          0.32890073+0.j         -0.46664976-0.26164227j\n",
      "  -0.46664976+0.26164227j  0.062178  +0.j        ]\n",
      " [ 0.52560994+0.j          0.45069954+0.j          0.55049159+0.j\n",
      "   0.55049159-0.j         -0.72129319+0.j        ]\n",
      " [ 0.23154156+0.j          0.22363817+0.j          0.21218467+0.37296651j\n",
      "   0.21218467-0.37296651j  0.3453169 +0.j        ]]\n"
     ]
    }
   ],
   "source": [
    "print(np.linalg.eig(c))\n",
    "vel , vec = vel,vec = np.linalg.eig(c)\n",
    "print(vel,vec)"
   ]
  },
  {
   "cell_type": "code",
   "execution_count": 76,
   "metadata": {},
   "outputs": [
    {
     "name": "stdout",
     "output_type": "stream",
     "text": [
      "45\n",
      "30\n",
      "28\n",
      "20\n",
      "15\n",
      "18\n",
      "[[11.  16.5 22. ]\n",
      " [ 5.5 11.  16.5]\n",
      " [ 2.2  8.8 19.8]]\n"
     ]
    }
   ],
   "source": [
    "# Questino 1 : numpy metrix operation : \n",
    "sales = np.array([\n",
    "    [10, 15, 20],\n",
    "    [5,  10, 15],\n",
    "    [2,  8,  18]\n",
    "])\n",
    "for person in sales:\n",
    "    print(person.sum())\n",
    "for product in sales:\n",
    "    print(product.max())\n",
    "print(sales*1.1) # 10 % increse \n",
    "\n"
   ]
  },
  {
   "cell_type": "code",
   "execution_count": 83,
   "metadata": {},
   "outputs": [
    {
     "name": "stdout",
     "output_type": "stream",
     "text": [
      "[32 35 40 38 31]\n",
      "[32 35 30 40 38 30 31]\n",
      "[40 38 35 32 31 30 28]\n"
     ]
    }
   ],
   "source": [
    "#question 2 : \n",
    "temps = np.array([32, 35, 28, 40, 38, 30, 31])\n",
    "print(temps[temps > 30 ])\n",
    "print(np.where(temps<30,30,temps))\n",
    "print(np.sort(temps)[::-1])"
   ]
  },
  {
   "cell_type": "code",
   "execution_count": null,
   "metadata": {},
   "outputs": [],
   "source": []
  }
 ],
 "metadata": {
  "kernelspec": {
   "display_name": "base",
   "language": "python",
   "name": "python3"
  },
  "language_info": {
   "codemirror_mode": {
    "name": "ipython",
    "version": 3
   },
   "file_extension": ".py",
   "mimetype": "text/x-python",
   "name": "python",
   "nbconvert_exporter": "python",
   "pygments_lexer": "ipython3",
   "version": "3.11.8"
  }
 },
 "nbformat": 4,
 "nbformat_minor": 2
}
