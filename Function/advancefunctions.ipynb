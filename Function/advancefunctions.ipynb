{
 "cells": [
  {
   "cell_type": "markdown",
   "metadata": {},
   "source": [
    "# Module 4: Advanced Functions Assignments\n",
    "## Lesson 4.1: Defining Functions\n",
    "### Assignment 1: Fibonacci Sequence with Memoization\n",
    "\n",
    "Define a recursive function to calculate the nth Fibonacci number using memoization. Test the function with different inputs.\n",
    "\n",
    "### Assignment 2: Function with Nested Default Arguments\n",
    "\n",
    "Define a function that takes two arguments, a and b, where b is a dictionary with a default value of an empty dictionary. The function should add a new key-value pair to the dictionary and return it. Test the function with different inputs.\n",
    "\n",
    "### Assignment 3: Function with Variable Keyword Arguments\n",
    "\n",
    "Define a function that takes a variable number of keyword arguments and returns a dictionary containing only those key-value pairs where the value is an integer. Test the function with different inputs.\n",
    "\n",
    "### Assignment 4: Function with Callback\n",
    "\n",
    "Define a function that takes another function as a callback and a list of integers. The function should apply the callback to each integer in the list and return a new list with the results. Test with different callback functions.\n",
    "\n",
    "### Assignment 5: Function that Returns a Function\n",
    "\n",
    "Define a function that returns another function. The returned function should take an integer and return its square. Test the returned function with different inputs.\n",
    "\n",
    "### Assignment 6: Function with Decorators\n",
    "\n",
    "Define a function that calculates the time taken to execute another function. Apply this decorator to a function that performs a complex calculation. Test the decorated function with different inputs.\n",
    "\n",
    "### Assignment 7: Higher-Order Function for Filtering and Mapping\n",
    "\n",
    "Define a higher-order function that takes two functions, a filter function and a map function, along with a list of integers. The higher-order function should first filter the integers using the filter function and then apply the map function to the filtered integers. Test with different filter and map functions.\n",
    "\n",
    "### Assignment 8: Function Composition\n",
    "\n",
    "Define a function that composes two functions, f and g, such that the result is f(g(x)). Test with different functions f and g.\n",
    "\n",
    "### Assignment 9: Partial Function Application\n",
    "\n",
    "Use the functools.partial function to create a new function that multiplies its input by 2. Test the new function with different inputs.\n",
    "\n",
    "### Assignment 10: Function with Error Handling\n",
    "\n",
    "Define a function that takes a list of integers and returns their average. The function should handle any errors that occur (e.g., empty list) and return None in such cases. Test with different inputs.\n",
    "\n",
    "### Assignment 11: Function with Generators\n",
    "\n",
    "Define a function that generates an infinite sequence of Fibonacci numbers. Test by printing the first 10 numbers in the sequence.\n",
    "\n",
    "### Assignment 12: Currying\n",
    "\n",
    "Define a curried function that takes three arguments, one at a time, and returns their product. Test the function by providing arguments one at a time.\n",
    "\n",
    "### Assignment 13: Function with Context Manager\n",
    "\n",
    "Define a function that uses a context manager to write a list of integers to a file. The function should handle any errors that occur during file operations. Test with different lists.\n",
    "\n",
    "### Assignment 14: Function with Multiple Return Types\n",
    "\n",
    "Define a function that takes a list of mixed data types (integers, strings, and floats) and returns three lists: one containing all the integers, one containing all the strings, and one containing all the floats. Test with different inputs.\n",
    "\n",
    "### Assignment 15: Function with State\n",
    "\n",
    "Define a function that maintains state between calls using a mutable default argument. The function should keep track of how many times it has been called. Test by calling the function multiple times."
   ]
  },
  {
   "cell_type": "code",
   "execution_count": null,
   "metadata": {},
   "outputs": [
    {
     "name": "stdout",
     "output_type": "stream",
     "text": [
      "34\n",
      "377\n",
      "4181\n"
     ]
    }
   ],
   "source": [
    "# Question 1 : Define a recursive function to calculate the nth Fibonacci number using memoization. Test the function with different inputs.\n",
    "\n",
    "# creating the memorization block \n",
    "\n"
   ]
  },
  {
   "cell_type": "code",
   "execution_count": null,
   "id": "0d9044d6",
   "metadata": {},
   "outputs": [
    {
     "name": "stdout",
     "output_type": "stream",
     "text": [
      "{3: 4, 5: 4}\n"
     ]
    }
   ],
   "source": [
    "# question 2 : Define a function that takes two arguments, a and b, where b is a dictionary with a default value of an empty dictionary. The function should add a new key-value pair to the dictionary and return it. Test the function with different inputs.\n",
    "\n"
   ]
  },
  {
   "cell_type": "code",
   "execution_count": null,
   "id": "4b860f43",
   "metadata": {},
   "outputs": [
    {
     "name": "stdout",
     "output_type": "stream",
     "text": [
      "{'soham': 10, 'yash': 5}\n"
     ]
    }
   ],
   "source": [
    "# question 3 : Define a function that takes a variable number of keyword arguments and returns a dictionary containing only those key-value pairs where the value is an integer. Test the function with different inputs.\n",
    "\n",
    "def var_args(**kwargs):\n",
    "    ans ={}\n",
    "    for key , value in kwargs.items():\n",
    "        if type(value) is int:\n",
    "            ans[key] = value \n",
    "    return ans \n",
    "\n",
    "print(var_args(soham =10 , yash =5 , mahi =None)) # while performing keyword argument write as at varible assignemtn when you calling a function "
   ]
  },
  {
   "cell_type": "code",
   "execution_count": null,
   "id": "c36d17d2",
   "metadata": {},
   "outputs": [
    {
     "name": "stdout",
     "output_type": "stream",
     "text": [
      "[1, 9, 25, 36, 36]\n"
     ]
    }
   ],
   "source": [
    "# qeustion 4 : Define a function that takes another function as a callback and a list of integers. The function should apply the callback to each integer in the list and return a new list with the results. Test with different callback functions.\n",
    "\n"
   ]
  },
  {
   "cell_type": "code",
   "execution_count": 1,
   "id": "7c874fb9",
   "metadata": {},
   "outputs": [
    {
     "name": "stdout",
     "output_type": "stream",
     "text": [
      "100\n"
     ]
    }
   ],
   "source": [
    "# question 5 : Define a function that returns another function. The returned function should take an integer and return its square. Test the returned function with different inputs.\n",
    "\n",
    "def func(n):\n",
    "    def seq(n):\n",
    "        return n**2 \n",
    "    return seq(n)\n",
    "\n",
    "print(func(10))"
   ]
  },
  {
   "cell_type": "code",
   "execution_count": 13,
   "id": "96ca5d54",
   "metadata": {},
   "outputs": [
    {
     "name": "stdout",
     "output_type": "stream",
     "text": [
      "Hello , soham piprotar\n",
      "the time taken for execution of function greet id 0.0000\n",
      "5.710433081087081e+46\n"
     ]
    }
   ],
   "source": [
    "# question 6 : Define a function that calculates the time taken to execute another function. Apply this decorator to a function that performs a complex calculation. Test the decorated function with different inputs.\n",
    "import time \n",
    "def dec(func):\n",
    "    def wrapper(name ,val):\n",
    "        start_time = time.time()\n",
    "        result = func(name,val)\n",
    "        end_time = time.time()\n",
    "        print(f\"the time taken for execution of function {func.__name__} id {end_time-start_time:.4f}\")\n",
    "        return result\n",
    "    return wrapper\n",
    "@dec\n",
    "def greet(name,val):\n",
    "    print(f\"Hello , {name} {val}\")\n",
    "    return 3.3524**89\n",
    "\n",
    "print(greet(\"soham\" ,\"piprotar\"))\n",
    "\n"
   ]
  },
  {
   "cell_type": "code",
   "execution_count": 10,
   "id": "3edc1e0f",
   "metadata": {},
   "outputs": [
    {
     "name": "stdout",
     "output_type": "stream",
     "text": [
      "[9, 1156, 1]\n"
     ]
    }
   ],
   "source": [
    "#Question 7 : Define a higher-order function that takes two functions, a filter function and a map function, along with a list of integers. The higher-order function should first filter the integers using the filter function and then apply the map function to the filtered integers. Test with different filter and map functions.\n",
    "\n",
    "def max_int(n):\n",
    "    if n >= 0:\n",
    "        return n \n",
    "\n",
    "def sq_(n):\n",
    "    return n**2 \n",
    "\n",
    "def h_f(callback_1,callback_2,lst):\n",
    "    sub_ans_1 = filter(callback_1,lst)\n",
    "    ans = map(callback_2 ,sub_ans_1)\n",
    "    return list(ans) \n",
    "\n",
    "lt = [3,34,1,0,-4,-5,-2]\n",
    "print(h_f(max_int,sq_,lt))\n",
    "# Learning from this problem : * while you pass function in higher order function only pas function name in that . \n",
    "# map = map(function , iterable ) \n",
    "# filer = filer(function , iterable )\n",
    "# map and fileter both are higher order fucntion using iteration and function . but remember one thing return type of this two function is object you need to convert them into appropreate formate \n"
   ]
  },
  {
   "cell_type": "code",
   "execution_count": 12,
   "id": "7f7b3340",
   "metadata": {},
   "outputs": [
    {
     "name": "stdout",
     "output_type": "stream",
     "text": [
      "405071318\n"
     ]
    }
   ],
   "source": [
    "# Define a function that composes two functions, f and g, such that the result is f(g(x)). Test with different functions f and g.\n",
    "\n",
    "def f(lst):\n",
    "    total = 0\n",
    "    for i in lst : \n",
    "        total += i \n",
    "    return total\n",
    "\n",
    "def g(n):\n",
    "    return [ x**x for x in range(0,n)] \n",
    "\n",
    "print(f(g(10)))"
   ]
  },
  {
   "cell_type": "code",
   "execution_count": null,
   "id": "ae9a85c1",
   "metadata": {},
   "outputs": [
    {
     "name": "stdout",
     "output_type": "stream",
     "text": [
      "1000\n"
     ]
    }
   ],
   "source": [
    "# question 9 : Use the functools.partial function to create a new function that multiplies its input by 2. Test the new function with different inputs.\n",
    "\n",
    "from functools import partial \n",
    "\n",
    "def c_b(n,exp):\n",
    "    return n**exp\n",
    "\n",
    "store = partial(c_b,exp=3)\n",
    "print(store(10))"
   ]
  },
  {
   "cell_type": "code",
   "execution_count": 24,
   "id": "ea5d5dbf",
   "metadata": {},
   "outputs": [
    {
     "name": "stdout",
     "output_type": "stream",
     "text": [
      "22.666666666666668\n"
     ]
    }
   ],
   "source": [
    "#question 10 : Define a function that takes a list of integers and returns their average. The function should handle any errors that occur (e.g., empty list) and return None in such cases. Test with different inputs.\n",
    "\n",
    "def avg_(lst):\n",
    "    if len(lst) == 0:\n",
    "        return None \n",
    "    total = 0\n",
    "    length_of_usable_char= 0\n",
    "    for item in lst : \n",
    "        if not isinstance(item,int) :\n",
    "            continue\n",
    "        else:\n",
    "            length_of_usable_char += 1 \n",
    "            total += item \n",
    "    return (total/length_of_usable_char) if length_of_usable_char>0 else None \n",
    "\n",
    "lt = [x**2 for x in range(0,9)]\n",
    "lt.append(\"soham\")\n",
    "lt.append(\"i need to overcome my overthinking problem in faster way \")\n",
    "\n",
    "print(avg_(lt))\n"
   ]
  },
  {
   "cell_type": "code",
   "execution_count": 40,
   "id": "5f7b10c2",
   "metadata": {},
   "outputs": [
    {
     "name": "stdout",
     "output_type": "stream",
     "text": [
      "[0, 1, 1, 2, 3, 5, 8, 13, 21, 34, 55, 89, 144, 233, 377, 610, 987, 1597, 2584, 4181, 6765, 10946, 17711, 28657, 46368, 75025, 121393, 196418, 317811, 514229, 832040, 1346269, 2178309, 3524578, 5702887, 9227465, 14930352, 24157817, 39088169, 63245986, 102334155, 165580141, 267914296, 433494437, 701408733, 1134903170, 1836311903, 2971215073, 4807526976, 7778742049]\n"
     ]
    }
   ],
   "source": [
    "# question 11  : Define a function that generates an infinite sequence of Fibonacci numbers. Test by printing the first 10 numbers in the sequence.\n",
    "\n",
    "# i am going with  the mmemorization technique that i comlete in the first palce using recursion but i don't know that this is practically posisible or not ? \n",
    "\n",
    "# this can be implemented by using lru cach function in functools \n",
    "\n",
    "from functools import lru_cache\n",
    "\n",
    "@lru_cache(maxsize=10)\n",
    "def fac_t(n):\n",
    "    if n<=1 : \n",
    "        return n \n",
    "    return fac_t(n-1)+fac_t(n-2)\n",
    "n = int(input(\"Enter the number you want print the fibonnaci sequance : \"))\n",
    "print([fac_t(i) for i in range(0,n)])\n",
    "\n"
   ]
  },
  {
   "cell_type": "code",
   "execution_count": 43,
   "id": "37fb7da2",
   "metadata": {},
   "outputs": [
    {
     "name": "stdout",
     "output_type": "stream",
     "text": [
      "30\n",
      "54\n"
     ]
    }
   ],
   "source": [
    "# question 12 : Define a curried function that takes three arguments, one at a time, and returns their product. Test the function by providing arguments one at a time.\n",
    "# simply it's a call hell like situations  \n",
    "\n",
    "def a_dd(a):\n",
    "    def b_dd(b):\n",
    "        def c_dd(c):\n",
    "            return a+b+c\n",
    "        return c_dd\n",
    "    return b_dd\n",
    "\n",
    "# and how we call this ? simple it's like a hell i don't konw wehre to use this but i don't like this at this place \n",
    "\n",
    "step1 = a_dd(5)\n",
    "step2=step1(10)\n",
    "step3=step2(15)\n",
    "print(step3)\n",
    "\n",
    "\n",
    "from functools import partial \n",
    "\n",
    "\n",
    "def ad_dd(a,b,c):\n",
    "    return a+b+c\n",
    "\n",
    "part = partial(ad_dd,10)\n",
    "print(part(10,34)) # this is act as the partial aragument use when we already define the value to a perticuler fucntion and this  is use when the major functionality block and where the function is important \n",
    "\n",
    "\n"
   ]
  },
  {
   "cell_type": "code",
   "execution_count": 52,
   "id": "8c4c6ae4",
   "metadata": {},
   "outputs": [
    {
     "name": "stdout",
     "output_type": "stream",
     "text": [
      "\n",
      "0\n",
      "1\n",
      "4\n",
      "9\n",
      "16\n",
      "25\n",
      "36\n",
      "49\n",
      "64\n",
      "0149162536496401491625364964\n"
     ]
    }
   ],
   "source": [
    "# Question 13 : Define a function that uses a context manager to write a list of integers to a file. The function should handle any errors that occur during file operations. Test with different lists.\n",
    "\n",
    "# ok so what i understand is there is list of interger in the list and i need ot create a file and add all this integer to that file and also heandle the error occurs in this process . for that i can use try and catch ( expecption heandling )\n",
    "\n",
    "lt = [x**2 for x in range(0,9)]\n",
    "        \n",
    "def write_file(filename , lst ):\n",
    "    try:\n",
    "        with open(filename , 'a') as file:\n",
    "            for item in lst:\n",
    "                file.write(f\"{item}\")\n",
    "    except Exception as e:\n",
    "        print(\"There is exeception occur {e}\")\n",
    "    finally:\n",
    "        file.close()\n",
    "\n",
    "write_file('text.txt',lt)\n",
    "\n",
    "with open('text.txt' , 'r') as file :\n",
    "    try:\n",
    "        for line in file:\n",
    "            print(line.strip())\n",
    "    except Exception as e :\n",
    "        print(\"There is a exception occur as {e}\")\n",
    "    finally:\n",
    "        file.close()\n",
    "\n",
    "\n",
    "\n",
    "\n"
   ]
  },
  {
   "cell_type": "code",
   "execution_count": 53,
   "id": "7bccacc4",
   "metadata": {},
   "outputs": [
    {
     "name": "stdout",
     "output_type": "stream",
     "text": [
      "([23, 2, 323], ['soham', 'hello there '], [3.3332], [(5+6j), (3+9j)])\n"
     ]
    }
   ],
   "source": [
    "# Question 14 : Define a function that takes a list of mixed data types (integers, strings, and floats) and returns three lists: one containing all the integers, one containing all the strings, and one containing all the floats. Test with different inputs.\n",
    "def fil(lst):\n",
    "        it,st,ft,ot = [],[],[],[]\n",
    "        for item in lst : \n",
    "            if isinstance(item,int):\n",
    "                  it.append(item)\n",
    "            elif  isinstance(item,str):\n",
    "                  st.append(item)\n",
    "            elif  isinstance(item,float):\n",
    "                  ft.append(item)\n",
    "            else:\n",
    "                  ot.append(item)\n",
    "        return (it,st,ft,ot)\n",
    "\n",
    "\n",
    "\n",
    "lt = [\"soham\" , 23,2,3.3332,5+6j,3+9j,323,'hello there ']\n",
    "\n",
    "print(fil(lt))\n",
    "\n"
   ]
  },
  {
   "cell_type": "code",
   "execution_count": 59,
   "id": "bf762102",
   "metadata": {},
   "outputs": [
    {
     "name": "stdout",
     "output_type": "stream",
     "text": [
      "1\n",
      "2\n",
      "3\n",
      "4\n",
      "5\n"
     ]
    }
   ],
   "source": [
    "# Question 15 : Define a function that maintains state between calls using a mutable default argument. The function should keep track of how many times it has been called. Test by calling the function multiple times.\n",
    "# i am currently thinking about useing the decorator for that . but how ?? is there any method for this ? \n",
    "\n",
    "def fun(a,b,lt=[]):\n",
    "    temp=0\n",
    "    if len(lt)>0:\n",
    "        temp = lt[0]\n",
    "    lt.clear()\n",
    "    lt.append(temp+1)\n",
    "    return lt[0]\n",
    "\n",
    "print(fun(1,2))\n",
    "print(fun(1,2))\n",
    "print(fun(1,2))\n",
    "print(fun(1,2))\n",
    "print(fun(1,2))\n"
   ]
  },
  {
   "cell_type": "code",
   "execution_count": 62,
   "id": "c49f3ba1",
   "metadata": {},
   "outputs": [
    {
     "name": "stdout",
     "output_type": "stream",
     "text": [
      "1\n",
      "2\n",
      "3\n",
      "4\n",
      "5\n"
     ]
    }
   ],
   "source": [
    "def count_calls(func):\n",
    "    def wrapper(*args,**kwargs):\n",
    "        if not hasattr(wrapper,'counter'):\n",
    "            wrapper.counter = 0 \n",
    "        wrapper.counter += 1 \n",
    "        return wrapper.counter \n",
    "    return wrapper\n",
    "@count_calls\n",
    "def ad__d(a,b):\n",
    "    return a+b \n",
    "print(ad__d(1,3))\n",
    "print(ad__d(1,3))\n",
    "print(ad__d(1,3))\n",
    "print(ad__d(1,3))\n",
    "print(ad__d(1,3))"
   ]
  },
  {
   "cell_type": "code",
   "execution_count": null,
   "id": "9b465770",
   "metadata": {},
   "outputs": [],
   "source": []
  },
  {
   "cell_type": "code",
   "execution_count": null,
   "id": "4b547e0f",
   "metadata": {},
   "outputs": [],
   "source": []
  }
 ],
 "metadata": {
  "kernelspec": {
   "display_name": "base",
   "language": "python",
   "name": "python3"
  },
  "language_info": {
   "codemirror_mode": {
    "name": "ipython",
    "version": 3
   },
   "file_extension": ".py",
   "mimetype": "text/x-python",
   "name": "python",
   "nbconvert_exporter": "python",
   "pygments_lexer": "ipython3",
   "version": "3.11.8"
  }
 },
 "nbformat": 4,
 "nbformat_minor": 5
}
