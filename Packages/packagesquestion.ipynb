{
 "cells": [
  {
   "cell_type": "markdown",
   "metadata": {},
   "source": [
    "# Module 5: Modules and Packages Assignments\n",
    "## Lesson 5.1: Importing Modules\n",
    "### Assignment 1: Importing and Using Modules\n",
    "\n",
    "Import the `math` module and use it to calculate the square root of 25 and the sine of 90 degrees.\n",
    "\n",
    "### Assignment 2: Aliasing Modules\n",
    "\n",
    "Import the `datetime` module with an alias and use it to print the current date and time.\n",
    "\n",
    "### Assignment 3: Importing Specific Functions\n",
    "\n",
    "Import the `randint` function from the `random` module and use it to generate a random integer between 1 and 100.\n",
    "\n",
    "### Assignment 4: Importing Multiple Functions\n",
    "\n",
    "Import the `sqrt` and `pow` functions from the `math` module and use them to calculate the square root of 16 and 2 raised to the power of 3.\n",
    "\n",
    "### Assignment 5: Handling Import Errors\n",
    "\n",
    "Write code that attempts to import a non-existent module and gracefully handles the import error by printing an error message.\n",
    "\n",
    "## Lesson 5.2: Standard Library Overview\n",
    "### Assignment 6: Working with the `os` Module\n",
    "\n",
    "Use the `os` module to create a new directory, list the contents of the current directory, and remove the newly created directory.\n",
    "\n",
    "### Assignment 7: Working with the `sys` Module\n",
    "\n",
    "Use the `sys` module to print the Python version currently in use and the command-line arguments passed to the script.\n",
    "\n",
    "### Assignment 8: Working with the `math` Module\n",
    "\n",
    "Use the `math` module to calculate the greatest common divisor (GCD) of two numbers and the factorial of a number.\n",
    "\n",
    "### Assignment 9: Working with the `datetime` Module\n",
    "\n",
    "Use the `datetime` module to print the current date, calculate the date 100 days from today, and determine the day of the week for a given date.\n",
    "\n",
    "### Assignment 10: Working with the `random` Module\n",
    "\n",
    "Use the `random` module to generate a list of 5 random numbers between 1 and 50 and shuffle the elements of a list.\n",
    "\n",
    "## Lesson 5.3: Creating and Using Packages\n",
    "### Assignment 11: Creating a Simple Package\n",
    "\n",
    "Create a package named `mypackage` with two modules: `module1` and `module2`. `module1` should contain a function that adds two numbers, and `module2` should contain a function that multiplies two numbers. Write code to use these functions.\n",
    "\n",
    "### Assignment 12: Using `__init__.py`\n",
    "\n",
    "Modify the `mypackage` package to include an `__init__.py` file that imports the functions from `module1` and `module2`. Write code to use these functions.\n",
    "\n",
    "### Assignment 13: Importing from a Package\n",
    "\n",
    "Write code to import and use the functions from `mypackage` without explicitly importing `module1` and `module2`.\n",
    "\n",
    "### Assignment 14: Relative Imports\n",
    "\n",
    "Create a subpackage named `subpackage` within `mypackage` and move `module2` into `subpackage`. Modify the import statements in `__init__.py` to use relative imports. Write code to use the functions from both modules.\n",
    "\n",
    "### Assignment 15: Handling Package Import Errors\n",
    "\n",
    "Write code that attempts to import a non-existent function from `mypackage` and gracefully handles the import error by printing an error message."
   ]
  },
  {
   "cell_type": "code",
   "execution_count": 1,
   "metadata": {},
   "outputs": [
    {
     "name": "stdout",
     "output_type": "stream",
     "text": [
      "36.66060555964672\n",
      "0.8939966636005579\n"
     ]
    }
   ],
   "source": [
    "# Question 1 : Import the `math` module and use it to calculate the square root of 25 and the sine of 90 degrees.  \n",
    "import math\n",
    "print(math.sqrt(1344))\n",
    "print(math.sin(90))"
   ]
  },
  {
   "cell_type": "code",
   "execution_count": 2,
   "id": "1e192968",
   "metadata": {},
   "outputs": [
    {
     "name": "stdout",
     "output_type": "stream",
     "text": [
      "2025-02-14 16:20:00.909807\n"
     ]
    }
   ],
   "source": [
    "#Question 2 : Import the `datetime` module with an alias and use it to print the current date and time.\n",
    "\n",
    "import datetime as dt \n",
    "print(dt.datetime.now())"
   ]
  },
  {
   "cell_type": "code",
   "execution_count": 19,
   "id": "d2891acb",
   "metadata": {},
   "outputs": [
    {
     "name": "stdout",
     "output_type": "stream",
     "text": [
      "99\n",
      "61\n"
     ]
    }
   ],
   "source": [
    "#Question 3 : Import the `randint` function from the `random` module and use it to generate a random integer between 1 and 100.\n",
    "import random \n",
    "\n",
    "print(random.randint(1,100))\n",
    "random.seed(329)\n",
    "print(random.randint(1,100))"
   ]
  },
  {
   "cell_type": "code",
   "execution_count": 20,
   "id": "13020700",
   "metadata": {},
   "outputs": [
    {
     "name": "stdout",
     "output_type": "stream",
     "text": [
      "4.0\n",
      "8.0\n"
     ]
    }
   ],
   "source": [
    "# Question 4 : Import the `sqrt` and `pow` functions from the `math` module and use them to calculate the square root of 16 and 2 raised to the power of 3.\n",
    "print(math.sqrt(16))\n",
    "print(math.pow(2,3))"
   ]
  },
  {
   "cell_type": "code",
   "execution_count": 22,
   "id": "223e6ace",
   "metadata": {},
   "outputs": [
    {
     "name": "stdout",
     "output_type": "stream",
     "text": [
      "The exception occurs : No module named 'soham'\n",
      "System is exit that nevigation \n"
     ]
    }
   ],
   "source": [
    "# question 5 : Write code that attempts to import a non-existent module and gracefully handles the import error by printing an error message.\n",
    "try:\n",
    "    import soham\n",
    "except Exception as e : \n",
    "    print(f\"The exception occurs : {e}\")\n",
    "finally:\n",
    "    print(\"System is exit that nevigation \")"
   ]
  },
  {
   "cell_type": "code",
   "execution_count": 28,
   "id": "ee4c048d",
   "metadata": {},
   "outputs": [
    {
     "name": "stdout",
     "output_type": "stream",
     "text": [
      "['advancefunctionsolution.ipynb', 'maths.py', 'new_dir_soham', 'packagesquestion.ipynb', 'text.txt', '__pycache__']\n"
     ]
    },
    {
     "ename": "PermissionError",
     "evalue": "[WinError 5] Access is denied: 'new_dir_soham'",
     "output_type": "error",
     "traceback": [
      "\u001b[1;31m---------------------------------------------------------------------------\u001b[0m",
      "\u001b[1;31mPermissionError\u001b[0m                           Traceback (most recent call last)",
      "Cell \u001b[1;32mIn[28], line 12\u001b[0m\n\u001b[0;32m      8\u001b[0m     os\u001b[38;5;241m.\u001b[39mmkdir(new_dir)\n\u001b[0;32m     11\u001b[0m \u001b[38;5;28mprint\u001b[39m(os\u001b[38;5;241m.\u001b[39mlistdir())\n\u001b[1;32m---> 12\u001b[0m os\u001b[38;5;241m.\u001b[39mremove(new_dir)\n\u001b[0;32m     13\u001b[0m \u001b[38;5;28mprint\u001b[39m(os\u001b[38;5;241m.\u001b[39mlistdir())\n",
      "\u001b[1;31mPermissionError\u001b[0m: [WinError 5] Access is denied: 'new_dir_soham'"
     ]
    }
   ],
   "source": [
    "# Question 6: Use the `os` module to create a new directory, list the contents of the current directory, and remove the newly created directory.\n",
    "\n",
    "import os \n",
    "new_dir =\"new_dir_soham\"\n",
    "if os.path.exists(new_dir):\n",
    "    print(\"This directory is alredy there : \")\n",
    "else:\n",
    "    os.mkdir(new_dir)\n",
    "\n",
    "\n",
    "print(os.listdir())\n",
    "os.remove(new_dir)\n",
    "print(os.listdir())"
   ]
  },
  {
   "cell_type": "code",
   "execution_count": 32,
   "id": "0d684d83",
   "metadata": {},
   "outputs": [
    {
     "name": "stdout",
     "output_type": "stream",
     "text": [
      "3.11.8 | packaged by Anaconda, Inc. | (main, Feb 26 2024, 21:34:05) [MSC v.1916 64 bit (AMD64)]\n"
     ]
    }
   ],
   "source": [
    "# Question 7 : Use the `sys` module to print the Python version currently in use and the command-line arguments passed to the script.\n",
    "\n",
    "import sys \n",
    "print(sys.version)"
   ]
  },
  {
   "cell_type": "code",
   "execution_count": 37,
   "id": "dde7d26b",
   "metadata": {},
   "outputs": [
    {
     "name": "stdout",
     "output_type": "stream",
     "text": [
      "1\n",
      "2\n"
     ]
    }
   ],
   "source": [
    "# question 8 : Use the `math` module to calculate the greatest common divisor (GCD) of two numbers and the factorial of a number.\n",
    "\n",
    "print(math.gcd(42,23))\n",
    "print(math.factorial(2))"
   ]
  },
  {
   "cell_type": "code",
   "execution_count": 52,
   "id": "b158dc5b",
   "metadata": {},
   "outputs": [
    {
     "name": "stdout",
     "output_type": "stream",
     "text": [
      "6\n",
      "2025-05-25\n",
      "2025-02-14\n"
     ]
    }
   ],
   "source": [
    "#Question 9 : Use the `datetime` module to print the current date, calculate the date 100 days from today, and determine the day of the week for a given date.\n",
    "\n",
    "import datetime\n",
    "\n",
    "cur_date =datetime.datetime.now().date()\n",
    "\n",
    "hun_day = cur_date+datetime.timedelta(days=100)\n",
    "print(hun_day.weekday())\n",
    "print(hun_day)\n",
    "\n",
    "print(cur_date)\n"
   ]
  },
  {
   "cell_type": "code",
   "execution_count": 54,
   "id": "f6ff64ca",
   "metadata": {},
   "outputs": [
    {
     "name": "stdout",
     "output_type": "stream",
     "text": [
      "Help on method_descriptor:\n",
      "\n",
      "weekday(...)\n",
      "    Return the day of the week represented by the date.\n",
      "    Monday == 0 ... Sunday == 6\n",
      "\n"
     ]
    }
   ],
   "source": [
    "help(datetime.datetime.weekday)"
   ]
  },
  {
   "cell_type": "code",
   "execution_count": null,
   "id": "b3482bcb",
   "metadata": {},
   "outputs": [
    {
     "name": "stdout",
     "output_type": "stream",
     "text": [
      "None\n",
      "[14, 5, 18, 31, 2]\n"
     ]
    }
   ],
   "source": [
    "#   Question 10 : Use the `random` module to generate a list of 5 random numbers between 1 and 50 and shuffle the elements of a list.\n",
    "\n",
    "import random \n",
    "\n",
    "lst =[random.randint(1,50) for i in range(0,5) ]\n",
    "print(random.shuffle(lst))  # this function reutrn you nothing \n",
    "print(lst)"
   ]
  },
  {
   "cell_type": "code",
   "execution_count": null,
   "id": "1976347e",
   "metadata": {},
   "outputs": [],
   "source": []
  },
  {
   "cell_type": "code",
   "execution_count": 57,
   "id": "f7285ad8",
   "metadata": {},
   "outputs": [
    {
     "name": "stdout",
     "output_type": "stream",
     "text": [
      "6\n",
      "2025-05-25\n",
      "2025-02-14\n"
     ]
    }
   ],
   "source": [
    "#Question 9 : Use the `datetime` module to print the current date, calculate the date 100 days from today, and determine the day of the week for a given date.\n",
    "\n",
    "import datetime\n",
    "\n",
    "cur_date =datetime.datetime.now().date()\n",
    "\n",
    "hun_day = cur_date+datetime.timedelta(days=100)\n",
    "print(hun_day.weekday())\n",
    "print(hun_day)\n",
    "\n",
    "print(cur_date)\n"
   ]
  },
  {
   "cell_type": "code",
   "execution_count": 67,
   "id": "595f2766",
   "metadata": {},
   "outputs": [
    {
     "name": "stdout",
     "output_type": "stream",
     "text": [
      "7\n",
      "69\n"
     ]
    }
   ],
   "source": [
    "# Question 11 : Create a package named `mypackage` with two modules: `module1` and `module2`. `module1` should contain a function that adds two numbers, and `module2` should contain a function that multiplies two numbers. Write code to use these functions.\n",
    "\n",
    "import os \n",
    "from mypackage import module1 as m1 \n",
    "from mypackage import module2 as m2\n",
    "print(m1.ad_d(4,3))\n",
    "print(m2.mul(3,23))\n",
    "\n"
   ]
  },
  {
   "cell_type": "code",
   "execution_count": 76,
   "id": "8936e2d4",
   "metadata": {},
   "outputs": [
    {
     "ename": "ImportError",
     "evalue": "cannot import name 'add' from 'mypackage' (c:\\Users\\SOHAM PIPROTAR\\Desktop\\Sem 8\\Machine Learning\\Python-1\\packages\\mypackage\\__init__.py)",
     "output_type": "error",
     "traceback": [
      "\u001b[1;31m---------------------------------------------------------------------------\u001b[0m",
      "\u001b[1;31mImportError\u001b[0m                               Traceback (most recent call last)",
      "Cell \u001b[1;32mIn[76], line 3\u001b[0m\n\u001b[0;32m      1\u001b[0m \u001b[38;5;66;03m# Question 12 : Modify the `mypackage` package to include an `__init__.py` file that imports the functions from `module1` and `module2`. Write code to use these functions.\u001b[39;00m\n\u001b[1;32m----> 3\u001b[0m \u001b[38;5;28;01mfrom\u001b[39;00m \u001b[38;5;21;01mmypackage\u001b[39;00m \u001b[38;5;28;01mimport\u001b[39;00m add,mul\n\u001b[0;32m      4\u001b[0m \u001b[38;5;28mprint\u001b[39m(add(\u001b[38;5;241m3\u001b[39m,\u001b[38;5;241m23\u001b[39m))\n\u001b[0;32m      5\u001b[0m \u001b[38;5;28mprint\u001b[39m(mul(\u001b[38;5;241m21\u001b[39m,\u001b[38;5;241m13\u001b[39m))\n",
      "\u001b[1;31mImportError\u001b[0m: cannot import name 'add' from 'mypackage' (c:\\Users\\SOHAM PIPROTAR\\Desktop\\Sem 8\\Machine Learning\\Python-1\\packages\\mypackage\\__init__.py)"
     ]
    }
   ],
   "source": [
    "# Question 12 : Modify the `mypackage` package to include an `__init__.py` file that imports the functions from `module1` and `module2`. Write code to use these functions.\n",
    "\n",
    "from mypackage import add,mul\n",
    "print(add(3,23))\n",
    "print(mul(21,13))"
   ]
  },
  {
   "cell_type": "code",
   "execution_count": 80,
   "id": "344fd1fe",
   "metadata": {},
   "outputs": [
    {
     "ename": "FileExistsError",
     "evalue": "[WinError 183] Cannot create a file when that file already exists: 'subpackage'",
     "output_type": "error",
     "traceback": [
      "\u001b[1;31m---------------------------------------------------------------------------\u001b[0m",
      "\u001b[1;31mFileExistsError\u001b[0m                           Traceback (most recent call last)",
      "Cell \u001b[1;32mIn[80], line 3\u001b[0m\n\u001b[0;32m      1\u001b[0m \u001b[38;5;66;03m# Queestion 14 : Create a subpackage named `subpackage` within `mypackage` and move `module2` into `subpackage`. Modify the import statements in `__init__.py` to use relative imports. Write code to use the functions from both modules.\u001b[39;00m\n\u001b[0;32m      2\u001b[0m sub_pkg \u001b[38;5;241m=\u001b[39m \u001b[38;5;124m\"\u001b[39m\u001b[38;5;124msubpackage\u001b[39m\u001b[38;5;124m\"\u001b[39m\n\u001b[1;32m----> 3\u001b[0m os\u001b[38;5;241m.\u001b[39mmkdir(sub_pkg)\n\u001b[0;32m      5\u001b[0m \u001b[38;5;28;01mfrom\u001b[39;00m \u001b[38;5;21;01mmypackage\u001b[39;00m \u001b[38;5;28;01mimport\u001b[39;00m mul \n\u001b[0;32m      6\u001b[0m \u001b[38;5;28mprint\u001b[39m(mul(\u001b[38;5;241m230\u001b[39m,\u001b[38;5;241m239\u001b[39m))\n",
      "\u001b[1;31mFileExistsError\u001b[0m: [WinError 183] Cannot create a file when that file already exists: 'subpackage'"
     ]
    }
   ],
   "source": [
    "# Queestion 14 : Create a subpackage named `subpackage` within `mypackage` and move `module2` into `subpackage`. Modify the import statements in `__init__.py` to use relative imports. Write code to use the functions from both modules.\n",
    "sub_pkg = \"subpackage\"\n",
    "os.mkdir(sub_pkg)\n",
    "\n",
    "from mypackage import mul \n",
    "print(mul(230,239))\n"
   ]
  },
  {
   "cell_type": "code",
   "execution_count": 86,
   "id": "075e0b4d",
   "metadata": {},
   "outputs": [
    {
     "name": "stdout",
     "output_type": "stream",
     "text": [
      "path already exits : \n",
      "there is incorrect import happen : cannot import name 'mul' from 'mypackage' (c:\\Users\\SOHAM PIPROTAR\\Desktop\\Sem 8\\Machine Learning\\Python-1\\packages\\mypackage\\__init__.py)\n",
      "there is something wrong with the import \n"
     ]
    }
   ],
   "source": [
    "# quesiton 15 : Write code that attempts to import a non-existent function from `mypackage` and gracefully handles the import error by printing an error message.\n",
    "\n",
    "sub_pkg = \"subpackage\"\n",
    "\n",
    "if not os.path.exists(sub_pkg):\n",
    "    os.mkdir(sub_pkg)\n",
    "else:\n",
    "    print(\"path already exits : \")\n",
    "    \n",
    "try : \n",
    "    from mypackage import mul \n",
    "except Exception as e :\n",
    "    print(f'there is incorrect import happen : {e}')\n",
    "\n",
    "try:\n",
    "    print(mul(230,239))\n",
    "except Exception as e : \n",
    "    print(\"there is something wrong with the import \")\n"
   ]
  },
  {
   "cell_type": "code",
   "execution_count": null,
   "id": "15d58e8a",
   "metadata": {},
   "outputs": [],
   "source": []
  }
 ],
 "metadata": {
  "kernelspec": {
   "display_name": "base",
   "language": "python",
   "name": "python3"
  },
  "language_info": {
   "codemirror_mode": {
    "name": "ipython",
    "version": 3
   },
   "file_extension": ".py",
   "mimetype": "text/x-python",
   "name": "python",
   "nbconvert_exporter": "python",
   "pygments_lexer": "ipython3",
   "version": "3.11.8"
  }
 },
 "nbformat": 4,
 "nbformat_minor": 5
}
