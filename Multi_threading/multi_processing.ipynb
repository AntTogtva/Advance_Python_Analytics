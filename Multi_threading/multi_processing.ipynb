{
 "cells": [
  {
   "cell_type": "code",
   "execution_count": 1,
   "metadata": {},
   "outputs": [],
   "source": [
    "# processes that run in perrelel \n",
    "\n",
    "# CPU bound tasks \n",
    "# parallel execution  : use the multipal cores of the CPU \n"
   ]
  },
  {
   "cell_type": "code",
   "execution_count": null,
   "metadata": {},
   "outputs": [],
   "source": [
    "\n",
    "import multiprocessing\n",
    "import time "
   ]
  },
  {
   "cell_type": "code",
   "execution_count": null,
   "metadata": {},
   "outputs": [
    {
     "name": "stdout",
     "output_type": "stream",
     "text": [
      "0.2183523178100586\n"
     ]
    }
   ],
   "source": [
    "import multiprocessing\n",
    "import time \n",
    "\n",
    "def square_numbers():\n",
    "    for i in range(5):\n",
    "        time.sleep(1)\n",
    "        print(f'square : {i*i}',flush=True) # flush mean python write the outpuut immediatly without creatng any buffer \n",
    "\n",
    "\n",
    "def cube_number():\n",
    "    for i in range(5):\n",
    "        time.sleep(1.5)\n",
    "        print(f'cube :{i**3}',flush=True)\n",
    "\n",
    "\n",
    "if __name__ == '__main__':\n",
    "    p1 = multiprocessing.Process(target=square_numbers)\n",
    "    p2 = multiprocessing.Process(target=cube_number)\n",
    "    t  = time.time()\n",
    "    p1.start()\n",
    "    p2.start()\n",
    "\n",
    "    p1.join()\n",
    "    p2.join()\n",
    "\n",
    "    finished_time = time.time()-t \n",
    "    print(finished_time)\n"
   ]
  },
  {
   "cell_type": "code",
   "execution_count": null,
   "metadata": {},
   "outputs": [],
   "source": [
    "import sys \n",
    "import multiprocessing\n",
    "import math\n",
    "import time \n",
    "\n",
    "# Increase the maximum number of digits for integer conversion\n",
    "sys.set_int_max_str_digits(100000)\n",
    "\n",
    "# Function to compute the factorial of a given number\n",
    "def computer_factorial(number):\n",
    "    print(f'factorial of : {number}')\n",
    "    result = math.factorial(number)\n",
    "    print(f'factorial of {number} is {result}')\n",
    "    return result\n",
    "\n",
    "if __name__ == '__main__':\n",
    "    numbers = [500, 600, 700, 800]\n",
    "    start_time = time.time()\n",
    "\n",
    "    with multiprocessing.Pool() as pool:\n",
    "        results = pool.map(computer_factorial, numbers)\n",
    "\n",
    "    end_time = time.time() - start_time\n",
    "\n",
    "    print(f'results: {results}')\n",
    "    print(f'time taken: {end_time} seconds')\n"
   ]
  },
  {
   "cell_type": "code",
   "execution_count": null,
   "metadata": {},
   "outputs": [],
   "source": []
  }
 ],
 "metadata": {
  "kernelspec": {
   "display_name": "base",
   "language": "python",
   "name": "python3"
  },
  "language_info": {
   "codemirror_mode": {
    "name": "ipython",
    "version": 3
   },
   "file_extension": ".py",
   "mimetype": "text/x-python",
   "name": "python",
   "nbconvert_exporter": "python",
   "pygments_lexer": "ipython3",
   "version": "3.11.8"
  }
 },
 "nbformat": 4,
 "nbformat_minor": 2
}
