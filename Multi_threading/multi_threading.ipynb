{
 "cells": [
  {
   "cell_type": "code",
   "execution_count": 1,
   "metadata": {},
   "outputs": [],
   "source": [
    "# when to use multi threading \n",
    "\n",
    "# I/O bound tasks : Task that spend more time waiting for I/O operation \n",
    "# concurrent Execution : when you want to improve the thoughout of your application by I/0 operation ( file _operation and networking request )"
   ]
  },
  {
   "cell_type": "code",
   "execution_count": 8,
   "metadata": {},
   "outputs": [
    {
     "name": "stdout",
     "output_type": "stream",
     "text": [
      "Number:0a\n",
      "\n",
      "b\n",
      "Number:1\n",
      "Number:2c\n",
      "\n",
      "d\n",
      "Number:3\n",
      "e\n",
      "Number:4\n",
      "10.014069318771362\n"
     ]
    }
   ],
   "source": [
    "import threading\n",
    "import time \n",
    "\n",
    "def print_numbers():\n",
    "    for i in range(5):\n",
    "        time.sleep(2)\n",
    "        print(f'Number:{i}')\n",
    "\n",
    "def print_letter():\n",
    "    for latter in 'abcde':\n",
    "        time.sleep(2)\n",
    "        print(latter)\n",
    "\n",
    "t1 = threading.Thread(target=print_numbers)\n",
    "t2 = threading.Thread(target=print_letter)\n",
    "t = time.time()\n",
    "# start the thread ; \n",
    "t1.start()\n",
    "t2.start()\n",
    "# wait for the thread to complete \n",
    "t1.join()\n",
    "t2.join()\n",
    "finished_time =time.time()-t\n",
    "print(finished_time)"
   ]
  },
  {
   "cell_type": "code",
   "execution_count": 9,
   "metadata": {},
   "outputs": [
    {
     "name": "stdout",
     "output_type": "stream",
     "text": [
      "Collecting bs4\n",
      "  Obtaining dependency information for bs4 from https://files.pythonhosted.org/packages/51/bb/bf7aab772a159614954d84aa832c129624ba6c32faa559dfb200a534e50b/bs4-0.0.2-py2.py3-none-any.whl.metadata\n",
      "  Downloading bs4-0.0.2-py2.py3-none-any.whl.metadata (411 bytes)\n",
      "Requirement already satisfied: beautifulsoup4 in d:\\workplace\\machine learning\\anaconda\\anaconda3\\lib\\site-packages (from bs4) (4.12.2)\n",
      "Requirement already satisfied: soupsieve>1.2 in d:\\workplace\\machine learning\\anaconda\\anaconda3\\lib\\site-packages (from beautifulsoup4->bs4) (2.5)\n",
      "Downloading bs4-0.0.2-py2.py3-none-any.whl (1.2 kB)\n",
      "Installing collected packages: bs4\n",
      "Successfully installed bs4-0.0.2\n"
     ]
    }
   ],
   "source": [
    "!pip install bs4"
   ]
  },
  {
   "cell_type": "code",
   "execution_count": 10,
   "metadata": {},
   "outputs": [
    {
     "name": "stdout",
     "output_type": "stream",
     "text": [
      "Requirement already satisfied: requests in d:\\workplace\\machine learning\\anaconda\\anaconda3\\lib\\site-packages (2.31.0)\n",
      "Requirement already satisfied: charset-normalizer<4,>=2 in d:\\workplace\\machine learning\\anaconda\\anaconda3\\lib\\site-packages (from requests) (2.0.4)\n",
      "Requirement already satisfied: idna<4,>=2.5 in d:\\workplace\\machine learning\\anaconda\\anaconda3\\lib\\site-packages (from requests) (3.4)\n",
      "Requirement already satisfied: urllib3<3,>=1.21.1 in d:\\workplace\\machine learning\\anaconda\\anaconda3\\lib\\site-packages (from requests) (2.0.7)\n",
      "Requirement already satisfied: certifi>=2017.4.17 in d:\\workplace\\machine learning\\anaconda\\anaconda3\\lib\\site-packages (from requests) (2025.1.31)\n"
     ]
    }
   ],
   "source": [
    "!pip install  requests"
   ]
  },
  {
   "cell_type": "code",
   "execution_count": 11,
   "metadata": {},
   "outputs": [
    {
     "name": "stderr",
     "output_type": "stream",
     "text": [
      "d:\\WorkPlace\\Machine Learning\\Anaconda\\anaconda3\\Lib\\site-packages\\urllib3\\connectionpool.py:1100: InsecureRequestWarning: Unverified HTTPS request is being made to host 'www.geeksforgeeks.org'. Adding certificate verification is strongly advised. See: https://urllib3.readthedocs.io/en/latest/advanced-usage.html#tls-warnings\n",
      "  warnings.warn(\n",
      "d:\\WorkPlace\\Machine Learning\\Anaconda\\anaconda3\\Lib\\site-packages\\urllib3\\connectionpool.py:1100: InsecureRequestWarning: Unverified HTTPS request is being made to host 'www.geeksforgeeks.org'. Adding certificate verification is strongly advised. See: https://urllib3.readthedocs.io/en/latest/advanced-usage.html#tls-warnings\n",
      "  warnings.warn(\n",
      "d:\\WorkPlace\\Machine Learning\\Anaconda\\anaconda3\\Lib\\site-packages\\urllib3\\connectionpool.py:1100: InsecureRequestWarning: Unverified HTTPS request is being made to host 'www.geeksforgeeks.org'. Adding certificate verification is strongly advised. See: https://urllib3.readthedocs.io/en/latest/advanced-usage.html#tls-warnings\n",
      "  warnings.warn(\n"
     ]
    },
    {
     "name": "stdout",
     "output_type": "stream",
     "text": [
      "Fatched 29915 characters from https://www.geeksforgeeks.org/difference-between-process-and-thread/\n",
      "Fatched 25516 characters from https://www.geeksforgeeks.org/g-fact-86/\n",
      "Fatched 43594 characters from https://www.geeksforgeeks.org/understanding-time-complexity-simple-examples/\n",
      "all web pages fatched \n"
     ]
    }
   ],
   "source": [
    "# web scrapping using multithreading \n",
    "\n",
    "'''\n",
    "scenario : Web Scrapping \n",
    "web scrapping oftern involves making numerous network requests to fatch web pages . \n",
    "these tasks are I/O bound because they spend a lot of time waiting for responsses from searver . \n",
    "multiprocessing can significantly improve the performance by allowing multiple web pages to be fetched conccurrently \n",
    "'''\n",
    "'''\n",
    "https://www.geeksforgeeks.org/understanding-time-complexity-simple-examples/\n",
    "\n",
    "https://www.geeksforgeeks.org/g-fact-86/\n",
    "\n",
    "https://www.geeksforgeeks.org/difference-between-process-and-thread/\n",
    "'''\n",
    "\n",
    "import threading\n",
    "import requests\n",
    "\n",
    "from bs4 import BeautifulSoup\n",
    "\n",
    "urls =[\n",
    "    \"https://www.geeksforgeeks.org/understanding-time-complexity-simple-examples/\",\n",
    "\n",
    "\"https://www.geeksforgeeks.org/g-fact-86/\",\n",
    "\n",
    "\"https://www.geeksforgeeks.org/difference-between-process-and-thread/\",\n",
    "\n",
    "]\n",
    "\n",
    "def fetch_contents(url):\n",
    "    response = requests.get(url,verify=False)\n",
    "    soup =BeautifulSoup(response.content,'html.parser')\n",
    "    print(f'Fatched {len(soup.text)} characters from {url}')\n",
    "\n",
    "threads = []\n",
    "for url in urls :\n",
    "    thread = threading.Thread(target=fetch_contents,args=(url,))\n",
    "    threads.append(thread)\n",
    "    thread.start()\n",
    "\n",
    "for thread in threads : \n",
    "    thread.join()\n",
    "\n",
    "print(\"all web pages fatched \")\n"
   ]
  },
  {
   "cell_type": "code",
   "execution_count": null,
   "metadata": {},
   "outputs": [],
   "source": []
  }
 ],
 "metadata": {
  "kernelspec": {
   "display_name": "base",
   "language": "python",
   "name": "python3"
  },
  "language_info": {
   "codemirror_mode": {
    "name": "ipython",
    "version": 3
   },
   "file_extension": ".py",
   "mimetype": "text/x-python",
   "name": "python",
   "nbconvert_exporter": "python",
   "pygments_lexer": "ipython3",
   "version": "3.11.8"
  }
 },
 "nbformat": 4,
 "nbformat_minor": 2
}
