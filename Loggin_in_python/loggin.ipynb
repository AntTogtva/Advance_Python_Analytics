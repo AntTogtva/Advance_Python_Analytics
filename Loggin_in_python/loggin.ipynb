{
 "cells": [
  {
   "cell_type": "code",
   "execution_count": 8,
   "metadata": {},
   "outputs": [],
   "source": [
    "import logging\n",
    "from datetime import datetime"
   ]
  },
  {
   "cell_type": "code",
   "execution_count": 18,
   "metadata": {},
   "outputs": [
    {
     "name": "stderr",
     "output_type": "stream",
     "text": [
      "DEBUG:root:this is a debug message \n",
      "INFO:root:this is an infor message \n",
      "WARNING:root:this is  a warning message \n",
      "ERROR:root:this is an error message \n",
      "CRITICAL:root:this is an critical method \n"
     ]
    }
   ],
   "source": [
    "logging.basicConfig(level=logging.DEBUG,force=True)\n",
    "\n",
    "logging.debug('this is a debug message ')\n",
    "logging.info('this is an infor message ')\n",
    "logging.warning('this is  a warning message ')\n",
    "\n",
    "logging.error('this is an error message ')\n",
    "logging.critical('this is an critical method ')"
   ]
  },
  {
   "cell_type": "code",
   "execution_count": 6,
   "metadata": {},
   "outputs": [
    {
     "name": "stderr",
     "output_type": "stream",
     "text": [
      "2025-02-20 17:39:06-root-DEBUG-this is a debug message\n",
      "2025-02-20 17:39:06-root-INFO-this is an info message\n",
      "2025-02-20 17:39:06-root-WARNING-this is a warning message\n",
      "2025-02-20 17:39:06-root-ERROR-this is an error message\n",
      "2025-02-20 17:39:06-root-CRITICAL-this is a critical method\n"
     ]
    }
   ],
   "source": [
    "import logging\n",
    "\n",
    "logging.basicConfig(\n",
    "    level=logging.DEBUG,\n",
    "    format='%(asctime)s-%(name)s-%(levelname)s-%(message)s',\n",
    "    datefmt='%Y-%m-%d %H:%M:%S',\n",
    "    force=True  # This forces the configuration to override previous settings.\n",
    ")\n",
    "\n",
    "\n",
    "logging.debug('this is a debug message')\n",
    "logging.info('this is an info message')\n",
    "logging.warning('this is a warning message')\n",
    "logging.error('this is an error message')\n",
    "logging.critical('this is a critical method')"
   ]
  },
  {
   "cell_type": "code",
   "execution_count": 2,
   "metadata": {},
   "outputs": [],
   "source": [
    "import logging \n",
    "\n",
    "logging.basicConfig(\n",
    "    filename='app.log',\n",
    "    filemode='w',\n",
    "    level=logging.DEBUG,\n",
    "    format=\"%(asctime)s-%(name)s-%(levelname)s-%(message)s\",\n",
    "    datefmt='%Y-%m-%d %H:%M:%S',\n",
    "    force = True \n",
    ")\n",
    "\n",
    "logging.debug('this is a debug message')\n",
    "logging.info('this is an info message')\n",
    "logging.warning('this is a warning message')\n",
    "logging.error('this is an error message')\n",
    "logging.critical('this is a critical method')"
   ]
  },
  {
   "cell_type": "code",
   "execution_count": 3,
   "metadata": {},
   "outputs": [
    {
     "name": "stdout",
     "output_type": "stream",
     "text": [
      "Collecting logger\n",
      "  Downloading logger-1.4.tar.gz (1.2 kB)\n",
      "  Preparing metadata (setup.py): started\n",
      "  Preparing metadata (setup.py): finished with status 'done'\n",
      "Building wheels for collected packages: logger\n",
      "  Building wheel for logger (setup.py): started\n",
      "  Building wheel for logger (setup.py): finished with status 'done'\n",
      "  Created wheel for logger: filename=logger-1.4-py3-none-any.whl size=1761 sha256=e7cf4db19c506c6c726e77d92a46cba380c54324efc7473fccab97851979c965\n",
      "  Stored in directory: c:\\users\\soham piprotar\\appdata\\local\\pip\\cache\\wheels\\cd\\1d\\c8\\f1361043ff09fd3c9a747b199e8e37bd716bacf0843bbdb68f\n",
      "Successfully built logger\n",
      "Installing collected packages: logger\n",
      "Successfully installed logger-1.4\n"
     ]
    }
   ],
   "source": [
    "!pip install logger"
   ]
  },
  {
   "cell_type": "code",
   "execution_count": null,
   "metadata": {},
   "outputs": [],
   "source": []
  }
 ],
 "metadata": {
  "kernelspec": {
   "display_name": "base",
   "language": "python",
   "name": "python3"
  },
  "language_info": {
   "codemirror_mode": {
    "name": "ipython",
    "version": 3
   },
   "file_extension": ".py",
   "mimetype": "text/x-python",
   "name": "python",
   "nbconvert_exporter": "python",
   "pygments_lexer": "ipython3",
   "version": "3.11.8"
  }
 },
 "nbformat": 4,
 "nbformat_minor": 2
}
