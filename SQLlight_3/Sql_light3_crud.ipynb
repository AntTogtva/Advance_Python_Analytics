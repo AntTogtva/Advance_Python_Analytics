{
 "cells": [
  {
   "cell_type": "code",
   "execution_count": 2,
   "metadata": {},
   "outputs": [],
   "source": [
    "import sqlite3"
   ]
  },
  {
   "cell_type": "code",
   "execution_count": 3,
   "metadata": {},
   "outputs": [
    {
     "data": {
      "text/plain": [
       "<sqlite3.Connection at 0x2586c41ba60>"
      ]
     },
     "execution_count": 3,
     "metadata": {},
     "output_type": "execute_result"
    }
   ],
   "source": [
    "# connect to the sql lite database \n",
    "\n",
    "connection =sqlite3.connect('example.db')\n",
    "connection"
   ]
  },
  {
   "cell_type": "code",
   "execution_count": 4,
   "metadata": {},
   "outputs": [],
   "source": [
    "cursor = connection.cursor()"
   ]
  },
  {
   "cell_type": "code",
   "execution_count": 8,
   "metadata": {},
   "outputs": [],
   "source": [
    "# create  a tabel \n",
    "\n",
    "cursor.execute('''\n",
    "               create table if not exists employees(\n",
    "               id integer primary key,\n",
    "               name text not null,\n",
    "               age integer ,\n",
    "               department text)\n",
    "''')\n",
    "# commit the chagnges \n",
    "\n",
    "connection.commit()"
   ]
  },
  {
   "cell_type": "code",
   "execution_count": 9,
   "metadata": {},
   "outputs": [
    {
     "data": {
      "text/plain": [
       "<sqlite3.Cursor at 0x2586d075d40>"
      ]
     },
     "execution_count": 9,
     "metadata": {},
     "output_type": "execute_result"
    }
   ],
   "source": [
    "cursor.execute('''\n",
    "               select * from employees\n",
    "               ''')"
   ]
  },
  {
   "cell_type": "code",
   "execution_count": 11,
   "metadata": {},
   "outputs": [],
   "source": [
    "## insert the data in sqllight 3\n",
    "\n",
    "cursor.execute('''\n",
    "insert into employees(name,age,department)\n",
    "               values('soham',32,'ML engineer')\n",
    "''')\n",
    "\n",
    "cursor.execute('''\n",
    "insert into employees(name,age,department)\n",
    "               values('bob',32,'engineer')\n",
    "''')\n",
    "\n",
    "cursor.execute('''\n",
    "insert into employees(name,age,department)\n",
    "               values('charlile',32,'product manager' )\n",
    "     ''')\n",
    "connection.commit()"
   ]
  },
  {
   "cell_type": "code",
   "execution_count": 13,
   "metadata": {},
   "outputs": [
    {
     "name": "stdout",
     "output_type": "stream",
     "text": [
      "(1, 'soham', 32, 'ML engineer')\n",
      "(2, 'bob', 32, 'engineer')\n",
      "(3, 'soham', 32, 'ML engineer')\n",
      "(4, 'bob', 32, 'engineer')\n",
      "(5, 'charlile', 32, 'product manager')\n"
     ]
    }
   ],
   "source": [
    "# Quiring the data from SQLlight 3 \n",
    "cursor.execute('select * from employees')\n",
    "rows=cursor.fetchall()\n",
    "for row in rows:\n",
    "    print(row)"
   ]
  },
  {
   "cell_type": "code",
   "execution_count": null,
   "metadata": {},
   "outputs": [],
   "source": [
    "# update the data into the table \n",
    "# changes the multiple data at a same time \n",
    "\n",
    "cursor.execute('''\n",
    "UPDATE employeesn \n",
    "Set age = 20 \n",
    "where name = 'soham'\n",
    "''')\n",
    "connection.commit()"
   ]
  },
  {
   "cell_type": "code",
   "execution_count": 19,
   "metadata": {},
   "outputs": [
    {
     "name": "stdout",
     "output_type": "stream",
     "text": [
      "(1, 'soham', 20, 'ML engineer')\n",
      "(2, 'bob', 32, 'engineer')\n",
      "(3, 'soham', 20, 'ML engineer')\n",
      "(4, 'bob', 32, 'engineer')\n",
      "(5, 'charlile', 32, 'product manager')\n"
     ]
    }
   ],
   "source": [
    "# for practcice a quring from the database  : \n",
    "\n",
    "cursor.execute('select * from employees   ')\n",
    "rows = cursor.fetchall()\n",
    "\n",
    "for row in rows:\n",
    "    print(row )"
   ]
  },
  {
   "cell_type": "code",
   "execution_count": 21,
   "metadata": {},
   "outputs": [],
   "source": [
    "# how to delete the data ; \n",
    "\n",
    "cursor.execute('''\n",
    "delete from employees \n",
    "               where name ='soham'\n",
    "               ''')\n",
    "\n",
    "connection.commit()\n"
   ]
  },
  {
   "cell_type": "code",
   "execution_count": 22,
   "metadata": {},
   "outputs": [
    {
     "name": "stdout",
     "output_type": "stream",
     "text": [
      "(2, 'bob', 32, 'engineer')\n",
      "(4, 'bob', 32, 'engineer')\n",
      "(5, 'charlile', 32, 'product manager')\n"
     ]
    }
   ],
   "source": [
    "cursor.execute('select * from employees ')\n",
    "rows = cursor.fetchall()\n",
    "\n",
    "for row in rows:\n",
    "    print(row)"
   ]
  },
  {
   "cell_type": "code",
   "execution_count": 23,
   "metadata": {},
   "outputs": [],
   "source": [
    "cursor.execute('''\n",
    "delete from employees \n",
    "               where name='bob'\n",
    "               ''')\n",
    "\n",
    "connection.commit()"
   ]
  },
  {
   "cell_type": "code",
   "execution_count": null,
   "metadata": {},
   "outputs": [
    {
     "name": "stdout",
     "output_type": "stream",
     "text": [
      "(5, 'charlile', 32, 'product manager')\n"
     ]
    }
   ],
   "source": [
    "cursor.execute('select * from employees')\n",
    "rows = cursor.fetchall()\n",
    "for row in rows :\n",
    "    print(row)"
   ]
  },
  {
   "cell_type": "code",
   "execution_count": 25,
   "metadata": {},
   "outputs": [],
   "source": [
    "import seaborn as sns "
   ]
  },
  {
   "cell_type": "code",
   "execution_count": 26,
   "metadata": {},
   "outputs": [],
   "source": [
    "tips = sns.load_dataset('tips')"
   ]
  },
  {
   "cell_type": "code",
   "execution_count": 27,
   "metadata": {},
   "outputs": [
    {
     "data": {
      "text/html": [
       "<div>\n",
       "<style scoped>\n",
       "    .dataframe tbody tr th:only-of-type {\n",
       "        vertical-align: middle;\n",
       "    }\n",
       "\n",
       "    .dataframe tbody tr th {\n",
       "        vertical-align: top;\n",
       "    }\n",
       "\n",
       "    .dataframe thead th {\n",
       "        text-align: right;\n",
       "    }\n",
       "</style>\n",
       "<table border=\"1\" class=\"dataframe\">\n",
       "  <thead>\n",
       "    <tr style=\"text-align: right;\">\n",
       "      <th></th>\n",
       "      <th>total_bill</th>\n",
       "      <th>tip</th>\n",
       "      <th>sex</th>\n",
       "      <th>smoker</th>\n",
       "      <th>day</th>\n",
       "      <th>time</th>\n",
       "      <th>size</th>\n",
       "    </tr>\n",
       "  </thead>\n",
       "  <tbody>\n",
       "    <tr>\n",
       "      <th>0</th>\n",
       "      <td>16.99</td>\n",
       "      <td>1.01</td>\n",
       "      <td>Female</td>\n",
       "      <td>No</td>\n",
       "      <td>Sun</td>\n",
       "      <td>Dinner</td>\n",
       "      <td>2</td>\n",
       "    </tr>\n",
       "    <tr>\n",
       "      <th>1</th>\n",
       "      <td>10.34</td>\n",
       "      <td>1.66</td>\n",
       "      <td>Male</td>\n",
       "      <td>No</td>\n",
       "      <td>Sun</td>\n",
       "      <td>Dinner</td>\n",
       "      <td>3</td>\n",
       "    </tr>\n",
       "    <tr>\n",
       "      <th>2</th>\n",
       "      <td>21.01</td>\n",
       "      <td>3.50</td>\n",
       "      <td>Male</td>\n",
       "      <td>No</td>\n",
       "      <td>Sun</td>\n",
       "      <td>Dinner</td>\n",
       "      <td>3</td>\n",
       "    </tr>\n",
       "    <tr>\n",
       "      <th>3</th>\n",
       "      <td>23.68</td>\n",
       "      <td>3.31</td>\n",
       "      <td>Male</td>\n",
       "      <td>No</td>\n",
       "      <td>Sun</td>\n",
       "      <td>Dinner</td>\n",
       "      <td>2</td>\n",
       "    </tr>\n",
       "    <tr>\n",
       "      <th>4</th>\n",
       "      <td>24.59</td>\n",
       "      <td>3.61</td>\n",
       "      <td>Female</td>\n",
       "      <td>No</td>\n",
       "      <td>Sun</td>\n",
       "      <td>Dinner</td>\n",
       "      <td>4</td>\n",
       "    </tr>\n",
       "  </tbody>\n",
       "</table>\n",
       "</div>"
      ],
      "text/plain": [
       "   total_bill   tip     sex smoker  day    time  size\n",
       "0       16.99  1.01  Female     No  Sun  Dinner     2\n",
       "1       10.34  1.66    Male     No  Sun  Dinner     3\n",
       "2       21.01  3.50    Male     No  Sun  Dinner     3\n",
       "3       23.68  3.31    Male     No  Sun  Dinner     2\n",
       "4       24.59  3.61  Female     No  Sun  Dinner     4"
      ]
     },
     "execution_count": 27,
     "metadata": {},
     "output_type": "execute_result"
    }
   ],
   "source": [
    "tips.head()"
   ]
  },
  {
   "cell_type": "code",
   "execution_count": 29,
   "metadata": {},
   "outputs": [],
   "source": [
    "# working with sales data \n",
    "connection = sqlite3.connect('tips_data.db')\n",
    "cursor = connection.cursor()\n",
    "\n",
    "# create a table for sales data ; \n",
    "cursor.execute( '''\n",
    "CREATE TABLE IF NOT EXISTS sales(\n",
    "               \n",
    "               id INTEGER PRIMARY KEY , \n",
    "               total_bill REAL,\n",
    "               tip REAL , \n",
    "               sex TEXT NOT NULL , \n",
    "               smoker TEXT NOT NULL ,\n",
    "               day TEXT NOT NULL ,\n",
    "               time TEXT NOT NULL , \n",
    "               size INTEGER \n",
    "\n",
    "               )\n",
    "''' )\n",
    "\n",
    "cursor.execute(''' INSERT INTO sales(total_bill,tip,sex,smoker,day,time,size)\n",
    "               values(4.23,0.5,'male','no','mon','Dinner',5)''')\n",
    "\n",
    "connection.commit()"
   ]
  },
  {
   "cell_type": "code",
   "execution_count": 30,
   "metadata": {},
   "outputs": [
    {
     "name": "stdout",
     "output_type": "stream",
     "text": [
      "(1, 4.23, 0.5, 'male', 'no', 'mon', 'Dinner', 5)\n"
     ]
    }
   ],
   "source": [
    "cursor.execute('select * from sales')\n",
    "rows = cursor.fetchall()\n",
    "\n",
    "for row in rows : \n",
    "    print(row)"
   ]
  },
  {
   "cell_type": "code",
   "execution_count": 32,
   "metadata": {},
   "outputs": [
    {
     "data": {
      "text/plain": [
       "244"
      ]
     },
     "execution_count": 32,
     "metadata": {},
     "output_type": "execute_result"
    }
   ],
   "source": [
    "# now it's time to load bulk insert the data from seaborn into our data base \n",
    "\n",
    "tips.to_sql('sales',connection,if_exists=\"replace\",index=False)"
   ]
  },
  {
   "cell_type": "code",
   "execution_count": null,
   "metadata": {},
   "outputs": [
    {
     "name": "stdout",
     "output_type": "stream",
     "text": [
      "(16.99, 1.01, 'Female', 'No', 'Sun', 'Dinner', 2)\n",
      "(10.34, 1.66, 'Male', 'No', 'Sun', 'Dinner', 3)\n",
      "(21.01, 3.5, 'Male', 'No', 'Sun', 'Dinner', 3)\n",
      "(23.68, 3.31, 'Male', 'No', 'Sun', 'Dinner', 2)\n",
      "(24.59, 3.61, 'Female', 'No', 'Sun', 'Dinner', 4)\n",
      "(25.29, 4.71, 'Male', 'No', 'Sun', 'Dinner', 4)\n",
      "(8.77, 2.0, 'Male', 'No', 'Sun', 'Dinner', 2)\n",
      "(26.88, 3.12, 'Male', 'No', 'Sun', 'Dinner', 4)\n",
      "(15.04, 1.96, 'Male', 'No', 'Sun', 'Dinner', 2)\n",
      "(14.78, 3.23, 'Male', 'No', 'Sun', 'Dinner', 2)\n",
      "(10.27, 1.71, 'Male', 'No', 'Sun', 'Dinner', 2)\n",
      "(35.26, 5.0, 'Female', 'No', 'Sun', 'Dinner', 4)\n",
      "(15.42, 1.57, 'Male', 'No', 'Sun', 'Dinner', 2)\n",
      "(18.43, 3.0, 'Male', 'No', 'Sun', 'Dinner', 4)\n",
      "(14.83, 3.02, 'Female', 'No', 'Sun', 'Dinner', 2)\n",
      "(21.58, 3.92, 'Male', 'No', 'Sun', 'Dinner', 2)\n",
      "(10.33, 1.67, 'Female', 'No', 'Sun', 'Dinner', 3)\n",
      "(16.29, 3.71, 'Male', 'No', 'Sun', 'Dinner', 3)\n",
      "(16.97, 3.5, 'Female', 'No', 'Sun', 'Dinner', 3)\n",
      "(20.65, 3.35, 'Male', 'No', 'Sat', 'Dinner', 3)\n",
      "(17.92, 4.08, 'Male', 'No', 'Sat', 'Dinner', 2)\n",
      "(20.29, 2.75, 'Female', 'No', 'Sat', 'Dinner', 2)\n",
      "(15.77, 2.23, 'Female', 'No', 'Sat', 'Dinner', 2)\n",
      "(39.42, 7.58, 'Male', 'No', 'Sat', 'Dinner', 4)\n",
      "(19.82, 3.18, 'Male', 'No', 'Sat', 'Dinner', 2)\n",
      "(17.81, 2.34, 'Male', 'No', 'Sat', 'Dinner', 4)\n",
      "(13.37, 2.0, 'Male', 'No', 'Sat', 'Dinner', 2)\n",
      "(12.69, 2.0, 'Male', 'No', 'Sat', 'Dinner', 2)\n",
      "(21.7, 4.3, 'Male', 'No', 'Sat', 'Dinner', 2)\n",
      "(19.65, 3.0, 'Female', 'No', 'Sat', 'Dinner', 2)\n",
      "(9.55, 1.45, 'Male', 'No', 'Sat', 'Dinner', 2)\n",
      "(18.35, 2.5, 'Male', 'No', 'Sat', 'Dinner', 4)\n",
      "(15.06, 3.0, 'Female', 'No', 'Sat', 'Dinner', 2)\n",
      "(20.69, 2.45, 'Female', 'No', 'Sat', 'Dinner', 4)\n",
      "(17.78, 3.27, 'Male', 'No', 'Sat', 'Dinner', 2)\n",
      "(24.06, 3.6, 'Male', 'No', 'Sat', 'Dinner', 3)\n",
      "(16.31, 2.0, 'Male', 'No', 'Sat', 'Dinner', 3)\n",
      "(16.93, 3.07, 'Female', 'No', 'Sat', 'Dinner', 3)\n",
      "(18.69, 2.31, 'Male', 'No', 'Sat', 'Dinner', 3)\n",
      "(31.27, 5.0, 'Male', 'No', 'Sat', 'Dinner', 3)\n",
      "(16.04, 2.24, 'Male', 'No', 'Sat', 'Dinner', 3)\n",
      "(17.46, 2.54, 'Male', 'No', 'Sun', 'Dinner', 2)\n",
      "(13.94, 3.06, 'Male', 'No', 'Sun', 'Dinner', 2)\n",
      "(9.68, 1.32, 'Male', 'No', 'Sun', 'Dinner', 2)\n",
      "(30.4, 5.6, 'Male', 'No', 'Sun', 'Dinner', 4)\n",
      "(18.29, 3.0, 'Male', 'No', 'Sun', 'Dinner', 2)\n",
      "(22.23, 5.0, 'Male', 'No', 'Sun', 'Dinner', 2)\n",
      "(32.4, 6.0, 'Male', 'No', 'Sun', 'Dinner', 4)\n",
      "(28.55, 2.05, 'Male', 'No', 'Sun', 'Dinner', 3)\n",
      "(18.04, 3.0, 'Male', 'No', 'Sun', 'Dinner', 2)\n",
      "(12.54, 2.5, 'Male', 'No', 'Sun', 'Dinner', 2)\n",
      "(10.29, 2.6, 'Female', 'No', 'Sun', 'Dinner', 2)\n",
      "(34.81, 5.2, 'Female', 'No', 'Sun', 'Dinner', 4)\n",
      "(9.94, 1.56, 'Male', 'No', 'Sun', 'Dinner', 2)\n",
      "(25.56, 4.34, 'Male', 'No', 'Sun', 'Dinner', 4)\n",
      "(19.49, 3.51, 'Male', 'No', 'Sun', 'Dinner', 2)\n",
      "(38.01, 3.0, 'Male', 'Yes', 'Sat', 'Dinner', 4)\n",
      "(26.41, 1.5, 'Female', 'No', 'Sat', 'Dinner', 2)\n",
      "(11.24, 1.76, 'Male', 'Yes', 'Sat', 'Dinner', 2)\n",
      "(48.27, 6.73, 'Male', 'No', 'Sat', 'Dinner', 4)\n",
      "(20.29, 3.21, 'Male', 'Yes', 'Sat', 'Dinner', 2)\n",
      "(13.81, 2.0, 'Male', 'Yes', 'Sat', 'Dinner', 2)\n",
      "(11.02, 1.98, 'Male', 'Yes', 'Sat', 'Dinner', 2)\n",
      "(18.29, 3.76, 'Male', 'Yes', 'Sat', 'Dinner', 4)\n",
      "(17.59, 2.64, 'Male', 'No', 'Sat', 'Dinner', 3)\n",
      "(20.08, 3.15, 'Male', 'No', 'Sat', 'Dinner', 3)\n",
      "(16.45, 2.47, 'Female', 'No', 'Sat', 'Dinner', 2)\n",
      "(3.07, 1.0, 'Female', 'Yes', 'Sat', 'Dinner', 1)\n",
      "(20.23, 2.01, 'Male', 'No', 'Sat', 'Dinner', 2)\n",
      "(15.01, 2.09, 'Male', 'Yes', 'Sat', 'Dinner', 2)\n",
      "(12.02, 1.97, 'Male', 'No', 'Sat', 'Dinner', 2)\n",
      "(17.07, 3.0, 'Female', 'No', 'Sat', 'Dinner', 3)\n",
      "(26.86, 3.14, 'Female', 'Yes', 'Sat', 'Dinner', 2)\n",
      "(25.28, 5.0, 'Female', 'Yes', 'Sat', 'Dinner', 2)\n",
      "(14.73, 2.2, 'Female', 'No', 'Sat', 'Dinner', 2)\n",
      "(10.51, 1.25, 'Male', 'No', 'Sat', 'Dinner', 2)\n",
      "(17.92, 3.08, 'Male', 'Yes', 'Sat', 'Dinner', 2)\n",
      "(27.2, 4.0, 'Male', 'No', 'Thur', 'Lunch', 4)\n",
      "(22.76, 3.0, 'Male', 'No', 'Thur', 'Lunch', 2)\n",
      "(17.29, 2.71, 'Male', 'No', 'Thur', 'Lunch', 2)\n",
      "(19.44, 3.0, 'Male', 'Yes', 'Thur', 'Lunch', 2)\n",
      "(16.66, 3.4, 'Male', 'No', 'Thur', 'Lunch', 2)\n",
      "(10.07, 1.83, 'Female', 'No', 'Thur', 'Lunch', 1)\n",
      "(32.68, 5.0, 'Male', 'Yes', 'Thur', 'Lunch', 2)\n",
      "(15.98, 2.03, 'Male', 'No', 'Thur', 'Lunch', 2)\n",
      "(34.83, 5.17, 'Female', 'No', 'Thur', 'Lunch', 4)\n",
      "(13.03, 2.0, 'Male', 'No', 'Thur', 'Lunch', 2)\n",
      "(18.28, 4.0, 'Male', 'No', 'Thur', 'Lunch', 2)\n",
      "(24.71, 5.85, 'Male', 'No', 'Thur', 'Lunch', 2)\n",
      "(21.16, 3.0, 'Male', 'No', 'Thur', 'Lunch', 2)\n",
      "(28.97, 3.0, 'Male', 'Yes', 'Fri', 'Dinner', 2)\n",
      "(22.49, 3.5, 'Male', 'No', 'Fri', 'Dinner', 2)\n",
      "(5.75, 1.0, 'Female', 'Yes', 'Fri', 'Dinner', 2)\n",
      "(16.32, 4.3, 'Female', 'Yes', 'Fri', 'Dinner', 2)\n",
      "(22.75, 3.25, 'Female', 'No', 'Fri', 'Dinner', 2)\n",
      "(40.17, 4.73, 'Male', 'Yes', 'Fri', 'Dinner', 4)\n",
      "(27.28, 4.0, 'Male', 'Yes', 'Fri', 'Dinner', 2)\n",
      "(12.03, 1.5, 'Male', 'Yes', 'Fri', 'Dinner', 2)\n",
      "(21.01, 3.0, 'Male', 'Yes', 'Fri', 'Dinner', 2)\n",
      "(12.46, 1.5, 'Male', 'No', 'Fri', 'Dinner', 2)\n",
      "(11.35, 2.5, 'Female', 'Yes', 'Fri', 'Dinner', 2)\n",
      "(15.38, 3.0, 'Female', 'Yes', 'Fri', 'Dinner', 2)\n",
      "(44.3, 2.5, 'Female', 'Yes', 'Sat', 'Dinner', 3)\n",
      "(22.42, 3.48, 'Female', 'Yes', 'Sat', 'Dinner', 2)\n",
      "(20.92, 4.08, 'Female', 'No', 'Sat', 'Dinner', 2)\n",
      "(15.36, 1.64, 'Male', 'Yes', 'Sat', 'Dinner', 2)\n",
      "(20.49, 4.06, 'Male', 'Yes', 'Sat', 'Dinner', 2)\n",
      "(25.21, 4.29, 'Male', 'Yes', 'Sat', 'Dinner', 2)\n",
      "(18.24, 3.76, 'Male', 'No', 'Sat', 'Dinner', 2)\n",
      "(14.31, 4.0, 'Female', 'Yes', 'Sat', 'Dinner', 2)\n",
      "(14.0, 3.0, 'Male', 'No', 'Sat', 'Dinner', 2)\n",
      "(7.25, 1.0, 'Female', 'No', 'Sat', 'Dinner', 1)\n",
      "(38.07, 4.0, 'Male', 'No', 'Sun', 'Dinner', 3)\n",
      "(23.95, 2.55, 'Male', 'No', 'Sun', 'Dinner', 2)\n",
      "(25.71, 4.0, 'Female', 'No', 'Sun', 'Dinner', 3)\n",
      "(17.31, 3.5, 'Female', 'No', 'Sun', 'Dinner', 2)\n",
      "(29.93, 5.07, 'Male', 'No', 'Sun', 'Dinner', 4)\n",
      "(10.65, 1.5, 'Female', 'No', 'Thur', 'Lunch', 2)\n",
      "(12.43, 1.8, 'Female', 'No', 'Thur', 'Lunch', 2)\n",
      "(24.08, 2.92, 'Female', 'No', 'Thur', 'Lunch', 4)\n",
      "(11.69, 2.31, 'Male', 'No', 'Thur', 'Lunch', 2)\n",
      "(13.42, 1.68, 'Female', 'No', 'Thur', 'Lunch', 2)\n",
      "(14.26, 2.5, 'Male', 'No', 'Thur', 'Lunch', 2)\n",
      "(15.95, 2.0, 'Male', 'No', 'Thur', 'Lunch', 2)\n",
      "(12.48, 2.52, 'Female', 'No', 'Thur', 'Lunch', 2)\n",
      "(29.8, 4.2, 'Female', 'No', 'Thur', 'Lunch', 6)\n",
      "(8.52, 1.48, 'Male', 'No', 'Thur', 'Lunch', 2)\n",
      "(14.52, 2.0, 'Female', 'No', 'Thur', 'Lunch', 2)\n",
      "(11.38, 2.0, 'Female', 'No', 'Thur', 'Lunch', 2)\n",
      "(22.82, 2.18, 'Male', 'No', 'Thur', 'Lunch', 3)\n",
      "(19.08, 1.5, 'Male', 'No', 'Thur', 'Lunch', 2)\n",
      "(20.27, 2.83, 'Female', 'No', 'Thur', 'Lunch', 2)\n",
      "(11.17, 1.5, 'Female', 'No', 'Thur', 'Lunch', 2)\n",
      "(12.26, 2.0, 'Female', 'No', 'Thur', 'Lunch', 2)\n",
      "(18.26, 3.25, 'Female', 'No', 'Thur', 'Lunch', 2)\n",
      "(8.51, 1.25, 'Female', 'No', 'Thur', 'Lunch', 2)\n",
      "(10.33, 2.0, 'Female', 'No', 'Thur', 'Lunch', 2)\n",
      "(14.15, 2.0, 'Female', 'No', 'Thur', 'Lunch', 2)\n",
      "(16.0, 2.0, 'Male', 'Yes', 'Thur', 'Lunch', 2)\n",
      "(13.16, 2.75, 'Female', 'No', 'Thur', 'Lunch', 2)\n",
      "(17.47, 3.5, 'Female', 'No', 'Thur', 'Lunch', 2)\n",
      "(34.3, 6.7, 'Male', 'No', 'Thur', 'Lunch', 6)\n",
      "(41.19, 5.0, 'Male', 'No', 'Thur', 'Lunch', 5)\n",
      "(27.05, 5.0, 'Female', 'No', 'Thur', 'Lunch', 6)\n",
      "(16.43, 2.3, 'Female', 'No', 'Thur', 'Lunch', 2)\n",
      "(8.35, 1.5, 'Female', 'No', 'Thur', 'Lunch', 2)\n",
      "(18.64, 1.36, 'Female', 'No', 'Thur', 'Lunch', 3)\n",
      "(11.87, 1.63, 'Female', 'No', 'Thur', 'Lunch', 2)\n",
      "(9.78, 1.73, 'Male', 'No', 'Thur', 'Lunch', 2)\n",
      "(7.51, 2.0, 'Male', 'No', 'Thur', 'Lunch', 2)\n",
      "(14.07, 2.5, 'Male', 'No', 'Sun', 'Dinner', 2)\n",
      "(13.13, 2.0, 'Male', 'No', 'Sun', 'Dinner', 2)\n",
      "(17.26, 2.74, 'Male', 'No', 'Sun', 'Dinner', 3)\n",
      "(24.55, 2.0, 'Male', 'No', 'Sun', 'Dinner', 4)\n",
      "(19.77, 2.0, 'Male', 'No', 'Sun', 'Dinner', 4)\n",
      "(29.85, 5.14, 'Female', 'No', 'Sun', 'Dinner', 5)\n",
      "(48.17, 5.0, 'Male', 'No', 'Sun', 'Dinner', 6)\n",
      "(25.0, 3.75, 'Female', 'No', 'Sun', 'Dinner', 4)\n",
      "(13.39, 2.61, 'Female', 'No', 'Sun', 'Dinner', 2)\n",
      "(16.49, 2.0, 'Male', 'No', 'Sun', 'Dinner', 4)\n",
      "(21.5, 3.5, 'Male', 'No', 'Sun', 'Dinner', 4)\n",
      "(12.66, 2.5, 'Male', 'No', 'Sun', 'Dinner', 2)\n",
      "(16.21, 2.0, 'Female', 'No', 'Sun', 'Dinner', 3)\n",
      "(13.81, 2.0, 'Male', 'No', 'Sun', 'Dinner', 2)\n",
      "(17.51, 3.0, 'Female', 'Yes', 'Sun', 'Dinner', 2)\n",
      "(24.52, 3.48, 'Male', 'No', 'Sun', 'Dinner', 3)\n",
      "(20.76, 2.24, 'Male', 'No', 'Sun', 'Dinner', 2)\n",
      "(31.71, 4.5, 'Male', 'No', 'Sun', 'Dinner', 4)\n",
      "(10.59, 1.61, 'Female', 'Yes', 'Sat', 'Dinner', 2)\n",
      "(10.63, 2.0, 'Female', 'Yes', 'Sat', 'Dinner', 2)\n",
      "(50.81, 10.0, 'Male', 'Yes', 'Sat', 'Dinner', 3)\n",
      "(15.81, 3.16, 'Male', 'Yes', 'Sat', 'Dinner', 2)\n",
      "(7.25, 5.15, 'Male', 'Yes', 'Sun', 'Dinner', 2)\n",
      "(31.85, 3.18, 'Male', 'Yes', 'Sun', 'Dinner', 2)\n",
      "(16.82, 4.0, 'Male', 'Yes', 'Sun', 'Dinner', 2)\n",
      "(32.9, 3.11, 'Male', 'Yes', 'Sun', 'Dinner', 2)\n",
      "(17.89, 2.0, 'Male', 'Yes', 'Sun', 'Dinner', 2)\n",
      "(14.48, 2.0, 'Male', 'Yes', 'Sun', 'Dinner', 2)\n",
      "(9.6, 4.0, 'Female', 'Yes', 'Sun', 'Dinner', 2)\n",
      "(34.63, 3.55, 'Male', 'Yes', 'Sun', 'Dinner', 2)\n",
      "(34.65, 3.68, 'Male', 'Yes', 'Sun', 'Dinner', 4)\n",
      "(23.33, 5.65, 'Male', 'Yes', 'Sun', 'Dinner', 2)\n",
      "(45.35, 3.5, 'Male', 'Yes', 'Sun', 'Dinner', 3)\n",
      "(23.17, 6.5, 'Male', 'Yes', 'Sun', 'Dinner', 4)\n",
      "(40.55, 3.0, 'Male', 'Yes', 'Sun', 'Dinner', 2)\n",
      "(20.69, 5.0, 'Male', 'No', 'Sun', 'Dinner', 5)\n",
      "(20.9, 3.5, 'Female', 'Yes', 'Sun', 'Dinner', 3)\n",
      "(30.46, 2.0, 'Male', 'Yes', 'Sun', 'Dinner', 5)\n",
      "(18.15, 3.5, 'Female', 'Yes', 'Sun', 'Dinner', 3)\n",
      "(23.1, 4.0, 'Male', 'Yes', 'Sun', 'Dinner', 3)\n",
      "(15.69, 1.5, 'Male', 'Yes', 'Sun', 'Dinner', 2)\n",
      "(19.81, 4.19, 'Female', 'Yes', 'Thur', 'Lunch', 2)\n",
      "(28.44, 2.56, 'Male', 'Yes', 'Thur', 'Lunch', 2)\n",
      "(15.48, 2.02, 'Male', 'Yes', 'Thur', 'Lunch', 2)\n",
      "(16.58, 4.0, 'Male', 'Yes', 'Thur', 'Lunch', 2)\n",
      "(7.56, 1.44, 'Male', 'No', 'Thur', 'Lunch', 2)\n",
      "(10.34, 2.0, 'Male', 'Yes', 'Thur', 'Lunch', 2)\n",
      "(43.11, 5.0, 'Female', 'Yes', 'Thur', 'Lunch', 4)\n",
      "(13.0, 2.0, 'Female', 'Yes', 'Thur', 'Lunch', 2)\n",
      "(13.51, 2.0, 'Male', 'Yes', 'Thur', 'Lunch', 2)\n",
      "(18.71, 4.0, 'Male', 'Yes', 'Thur', 'Lunch', 3)\n",
      "(12.74, 2.01, 'Female', 'Yes', 'Thur', 'Lunch', 2)\n",
      "(13.0, 2.0, 'Female', 'Yes', 'Thur', 'Lunch', 2)\n",
      "(16.4, 2.5, 'Female', 'Yes', 'Thur', 'Lunch', 2)\n",
      "(20.53, 4.0, 'Male', 'Yes', 'Thur', 'Lunch', 4)\n",
      "(16.47, 3.23, 'Female', 'Yes', 'Thur', 'Lunch', 3)\n",
      "(26.59, 3.41, 'Male', 'Yes', 'Sat', 'Dinner', 3)\n",
      "(38.73, 3.0, 'Male', 'Yes', 'Sat', 'Dinner', 4)\n",
      "(24.27, 2.03, 'Male', 'Yes', 'Sat', 'Dinner', 2)\n",
      "(12.76, 2.23, 'Female', 'Yes', 'Sat', 'Dinner', 2)\n",
      "(30.06, 2.0, 'Male', 'Yes', 'Sat', 'Dinner', 3)\n",
      "(25.89, 5.16, 'Male', 'Yes', 'Sat', 'Dinner', 4)\n",
      "(48.33, 9.0, 'Male', 'No', 'Sat', 'Dinner', 4)\n",
      "(13.27, 2.5, 'Female', 'Yes', 'Sat', 'Dinner', 2)\n",
      "(28.17, 6.5, 'Female', 'Yes', 'Sat', 'Dinner', 3)\n",
      "(12.9, 1.1, 'Female', 'Yes', 'Sat', 'Dinner', 2)\n",
      "(28.15, 3.0, 'Male', 'Yes', 'Sat', 'Dinner', 5)\n",
      "(11.59, 1.5, 'Male', 'Yes', 'Sat', 'Dinner', 2)\n",
      "(7.74, 1.44, 'Male', 'Yes', 'Sat', 'Dinner', 2)\n",
      "(30.14, 3.09, 'Female', 'Yes', 'Sat', 'Dinner', 4)\n",
      "(12.16, 2.2, 'Male', 'Yes', 'Fri', 'Lunch', 2)\n",
      "(13.42, 3.48, 'Female', 'Yes', 'Fri', 'Lunch', 2)\n",
      "(8.58, 1.92, 'Male', 'Yes', 'Fri', 'Lunch', 1)\n",
      "(15.98, 3.0, 'Female', 'No', 'Fri', 'Lunch', 3)\n",
      "(13.42, 1.58, 'Male', 'Yes', 'Fri', 'Lunch', 2)\n",
      "(16.27, 2.5, 'Female', 'Yes', 'Fri', 'Lunch', 2)\n",
      "(10.09, 2.0, 'Female', 'Yes', 'Fri', 'Lunch', 2)\n",
      "(20.45, 3.0, 'Male', 'No', 'Sat', 'Dinner', 4)\n",
      "(13.28, 2.72, 'Male', 'No', 'Sat', 'Dinner', 2)\n",
      "(22.12, 2.88, 'Female', 'Yes', 'Sat', 'Dinner', 2)\n",
      "(24.01, 2.0, 'Male', 'Yes', 'Sat', 'Dinner', 4)\n",
      "(15.69, 3.0, 'Male', 'Yes', 'Sat', 'Dinner', 3)\n",
      "(11.61, 3.39, 'Male', 'No', 'Sat', 'Dinner', 2)\n",
      "(10.77, 1.47, 'Male', 'No', 'Sat', 'Dinner', 2)\n",
      "(15.53, 3.0, 'Male', 'Yes', 'Sat', 'Dinner', 2)\n",
      "(10.07, 1.25, 'Male', 'No', 'Sat', 'Dinner', 2)\n",
      "(12.6, 1.0, 'Male', 'Yes', 'Sat', 'Dinner', 2)\n",
      "(32.83, 1.17, 'Male', 'Yes', 'Sat', 'Dinner', 2)\n",
      "(35.83, 4.67, 'Female', 'No', 'Sat', 'Dinner', 3)\n",
      "(29.03, 5.92, 'Male', 'No', 'Sat', 'Dinner', 3)\n",
      "(27.18, 2.0, 'Female', 'Yes', 'Sat', 'Dinner', 2)\n",
      "(22.67, 2.0, 'Male', 'Yes', 'Sat', 'Dinner', 2)\n",
      "(17.82, 1.75, 'Male', 'No', 'Sat', 'Dinner', 2)\n",
      "(18.78, 3.0, 'Female', 'No', 'Thur', 'Dinner', 2)\n"
     ]
    }
   ],
   "source": [
    "\n",
    "cursor.execute('select * from sales')\n",
    "rows = cursor.fetchall()\n",
    "\n",
    "for row in rows:\n",
    "    print(row)\n",
    "    "
   ]
  },
  {
   "cell_type": "code",
   "execution_count": 39,
   "metadata": {},
   "outputs": [],
   "source": [
    "connection2=sqlite3.connect('demo.db')\n",
    "cursor = connection.cursor()\n",
    "\n",
    "# table for series data ; \n",
    "\n",
    "cursor.execute('''\n",
    "CREATE TABLE IF NOT EXISTS test(\n",
    "               id INTEGER PRIMARY KEY ,\n",
    "               date TEXT NOT NULL ,\n",
    "               product TEXT NOT NULL , \n",
    "               sales INTEGER ,\n",
    "               region TEXT )\n",
    "\n",
    "''')\n",
    "test_data = [\n",
    "    ('2023-01-01','product1',100,'North'),\n",
    "    ('2023-01-02','product3',150,'South'),\n",
    "    ('2023-01-03','product2',180,'East'),\n",
    "    ('2023-01-04','product2',140,'West'),\n",
    "    ('2023-01-05','product5',120,'West'),\n",
    "    ('2023-01-06','product4',110,'West'),\n",
    "]\n",
    "connection2.commit()"
   ]
  },
  {
   "cell_type": "code",
   "execution_count": 41,
   "metadata": {},
   "outputs": [],
   "source": [
    "cursor.executemany('''\n",
    "INSERT into test(date,product,sales,region)\n",
    "                   values(?,?,?,?)\n",
    "''',test_data)\n",
    "\n",
    "connection2.commit()"
   ]
  },
  {
   "cell_type": "code",
   "execution_count": 42,
   "metadata": {},
   "outputs": [
    {
     "name": "stdout",
     "output_type": "stream",
     "text": [
      "('2023-01-01',)\n",
      "('2023-01-02',)\n",
      "('2023-01-03',)\n",
      "('2023-01-04',)\n",
      "('2023-01-05',)\n",
      "('2023-01-06',)\n"
     ]
    }
   ],
   "source": [
    "cursor.execute('SELECT date from test')\n",
    "rows = cursor.fetchall()\n",
    "\n",
    "for row in rows :\n",
    "    print(row)"
   ]
  },
  {
   "cell_type": "code",
   "execution_count": 43,
   "metadata": {},
   "outputs": [],
   "source": [
    "connection.close()\n",
    "connection2.close()"
   ]
  },
  {
   "cell_type": "code",
   "execution_count": null,
   "metadata": {},
   "outputs": [],
   "source": [
    "# from this way we can close the connection . \n",
    "\n"
   ]
  }
 ],
 "metadata": {
  "kernelspec": {
   "display_name": "base",
   "language": "python",
   "name": "python3"
  },
  "language_info": {
   "codemirror_mode": {
    "name": "ipython",
    "version": 3
   },
   "file_extension": ".py",
   "mimetype": "text/x-python",
   "name": "python",
   "nbconvert_exporter": "python",
   "pygments_lexer": "ipython3",
   "version": "3.11.8"
  }
 },
 "nbformat": 4,
 "nbformat_minor": 2
}
